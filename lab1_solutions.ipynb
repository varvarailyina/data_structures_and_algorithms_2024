{
 "cells": [
  {
   "cell_type": "markdown",
   "metadata": {
    "collapsed": true,
    "jupyter": {
     "outputs_hidden": true
    },
    "pycharm": {
     "name": "#%% md\n"
    }
   },
   "source": [
    "# Lab 1\n",
    "## Data Structures & Algorithms\n",
    "### Thursday, 8 February 2024"
   ]
  },
  {
   "cell_type": "markdown",
   "metadata": {
    "collapsed": false,
    "jupyter": {
     "outputs_hidden": false
    },
    "pycharm": {
     "name": "#%% md\n"
    }
   },
   "source": [
    "## Today\n",
    "\n",
    "* [Some preliminary stuff for the DS&A labs.](#prelim)\n",
    "* [Helpful tools](#tools)\n",
    "* [Setting up a new project...](#setup)\n",
    "* [Good coding practice :)](#goodcoding)\n",
    "* [Before you get started](#getstarted) (optional)\n",
    "* [Let's start coding!](#exercises)"
   ]
  },
  {
   "cell_type": "markdown",
   "metadata": {
    "collapsed": false,
    "jupyter": {
     "outputs_hidden": false
    },
    "pycharm": {
     "name": "#%% md\n"
    }
   },
   "source": [
    "## Some preliminary stuff. <a class=\"anchor\" id=\"prelim\"></a>"
   ]
  },
  {
   "cell_type": "markdown",
   "metadata": {
    "collapsed": false,
    "jupyter": {
     "outputs_hidden": false
    },
    "pycharm": {
     "name": "#%% md\n"
    }
   },
   "source": [
    "### How will these labs be structured?\n",
    "\n",
    "90 minutes in total, divided into\n",
    "\n",
    "1. Intro & refresher\n",
    "2. Exercises (~1h)\n",
    "3. Any other coding-related work & questions, **if there is time**. Otherwise, my office hours are **Thursdays 2-3pm** in room **F180-2.31**"
   ]
  },
  {
   "cell_type": "markdown",
   "metadata": {
    "collapsed": false,
    "jupyter": {
     "outputs_hidden": false
    },
    "pycharm": {
     "name": "#%% md\n"
    }
   },
   "source": [
    "### Lab 'rules'\n",
    "\n",
    "There are no stupid questions!\n",
    "\n",
    "Try it yourself before asking others/googling/stack overflowing/asking chatGPT!\n",
    "\n",
    "Enjoy it - coding is fun!"
   ]
  },
  {
   "cell_type": "markdown",
   "metadata": {
    "collapsed": false,
    "jupyter": {
     "outputs_hidden": false
    },
    "pycharm": {
     "name": "#%% md\n"
    }
   },
   "source": [
    "### Access lab resources and exercises\n",
    "You will find the Jupyter notebooks for the labs at [https://github.com/lenafm/data_structures_and_algorithms_2024](https://github.com/lenafm/data_structures_and_algorithms_2024).\n",
    "\n",
    "To access the Jupyter notebooks, the easiest thing is to `git clone` the repository, by running the following in your command line:\n",
    "\n",
    "```\n",
    "git clone https://github.com/lenafm/data_structures_and_algorithms_2024.git\n",
    "```\n",
    "\n",
    "In the [Before you get started](#getstarted) section, you find a step-by-step guide of how to run a Jupyter notebook."
   ]
  },
  {
   "cell_type": "markdown",
   "metadata": {
    "collapsed": false,
    "jupyter": {
     "outputs_hidden": false
    },
    "pycharm": {
     "name": "#%% md\n"
    }
   },
   "source": [
    "## Helpful tools <a class=\"anchor\" id=\"tools\"></a>"
   ]
  },
  {
   "cell_type": "markdown",
   "metadata": {},
   "source": [
    "Here is a list of tools and resources that can help you along the way. Use these to go through the steps in the [Before you get started](#getstarted) section.\n",
    "\n",
    "* **How to work with the command line?** It's useful for anyone working with data and code to know how to use the command line (aka terminal/shell), this [article](https://www.dataquest.io/blog/why-learn-the-command-line/) explains why. [Here](https://tutorial.djangogirls.org/en/intro_to_command_line/) is an introduction of the most important commands on different operating systems. Using [TMUX](https://deliciousbrains.com/tmux-for-local-development/#what-is-tmux) will make using the command line much easier! \n",
    "* **How to install Python and keep track of dependencies?** I highly recommend using a virtual environment, ideally with [miniconda](https://docs.anaconda.com/free/miniconda/#quick-command-line-install)! Miniconda [CHEATSHEET](https://docs.conda.io/projects/conda/en/latest/_downloads/843d9e0198f2a193a3484886fa28163c/conda-cheatsheet.pdf)\n",
    "* **Where/how to write your code?** Choose an integrated development environment (IDE) or code editor (I recommend [PyCharm](https://www.dataquest.io/blog/how-to-set-up-pycharm-community-edition/)) and install [Jupyter Notebooks](https://realpython.com/jupyter-notebook-introduction/) for code experimentation (and to run the DS&A labs), and use Jupyter [keyboard shortcuts](https://towardsdatascience.com/jypyter-notebook-shortcuts-bf0101a98330).\n",
    "* **How to keep track of changes?** [Download and install Git](https://www.atlassian.com/git/tutorials/install-git)! Git [CHEATSHEET](https://education.github.com/git-cheat-sheet-education.pdf)\n",
    "* **How to collaborate?** Sign up to GitHub.\n",
    "* **How to write basic syntax in Python?** Look at this [CHEATSHEET](https://www.pythoncheatsheet.org/cheatsheet/basics) or use StackOverflow."
   ]
  },
  {
   "cell_type": "markdown",
   "metadata": {
    "collapsed": false,
    "jupyter": {
     "outputs_hidden": false
    },
    "pycharm": {
     "name": "#%% md\n"
    }
   },
   "source": [
    "## Setting up a new project <a class=\"anchor\" id=\"setup\"></a>"
   ]
  },
  {
   "cell_type": "markdown",
   "metadata": {},
   "source": [
    "Here are some best-practice steps you can take *every time* you start a new project (including a 'project' for what we'll be doing in DS&A labs), to keep your code organised, sharable, and up-to-date. The [Before you get started](#getstarted) section below goes through these steps one by one.\n",
    "\n",
    "1. Create a new directory for each project!\n",
    "2. Set up a virtual environment with your preferred Python version using conda.\n",
    "3. Install jupyter into this environment.\n",
    "4. Set up a new project in PyCharm, selecting your preferred Python installation as the interpreter (ideally the one you just created using conda).\n",
    "5. Set up git (create .gitignore, initialise, first commit, etc.).\n",
    "6. Start jupyter within your environment by running the command `jupyter notebook`.\n",
    "7. START CODING!"
   ]
  },
  {
   "cell_type": "markdown",
   "metadata": {
    "collapsed": false,
    "jupyter": {
     "outputs_hidden": false
    },
    "pycharm": {
     "name": "#%% md\n"
    }
   },
   "source": [
    "## Refresher: some best practice for coding :) <a class=\"anchor\" id=\"goodcoding\"></a>"
   ]
  },
  {
   "cell_type": "markdown",
   "metadata": {},
   "source": [
    "The course textbooks are a great resource and there are many blog posts on best-practice for coding. Here's a very top-line summary:\n",
    "\n",
    "* Think carefully about naming conventions for variables, classes and functions\n",
    "* Write good documentation and comments\n",
    "* Make sure your code is reusable and scalable\n",
    "    * Once you find yourself repeating a bit of code, write a function for it.\n",
    "    * High cohesion (code *within* modules/classes/functions should be closely related).\n",
    "    * Low coupling (code in *different* modules/classes/functions should depend on each other as little as possible).\n",
    "* Test your code (the smaller the units you test, the easier you will make your life in the future).\n",
    "* Track your changes; remember to use version control so that your collaborators and future self understand what you have changed/added!"
   ]
  },
  {
   "cell_type": "markdown",
   "metadata": {},
   "source": [
    "## Before you get started <a class=\"anchor\" id=\"getstarted\"></a>"
   ]
  },
  {
   "cell_type": "markdown",
   "metadata": {
    "collapsed": false,
    "jupyter": {
     "outputs_hidden": false
    },
    "pycharm": {
     "name": "#%% md\n"
    }
   },
   "source": [
    "If you have been coding in Python for a while and already have your preferred set-up, you can skip this section and go on to the coding exercises. Otherwise, go through the following steps to create a handy and easily reproducible coding environment, before you dive into the coding exercises. Doing this once will very likely make your coding experience in the future much easier, even if it seems like a hassle in the beginning. **Use the resources and links listed in the [Helpful tools](#tools) section.**\n",
    "\n",
    "### 1. Familiarise yourself with the command line\n",
    "Being familiar with the command line, and being used to working with it, will help you set up and navigate data processing pipelines, work with data that is stored remotely (i.e. not on your local computer), switch between different programmes, and deploy web apps, to name just a few. If you have never used the command line before, open the command line introduction and make yourself familiar with the commands to\n",
    "1. how to print the information of the current directory\n",
    "2. move between directories (aka folders)\n",
    "3. how to print a list of files and subdirectories within the current directory\n",
    "4. create new directories\n",
    "5. remove files and folders\n",
    "6. (optional and slightly more advanced) a really helpful tool for simplifying the command line is TMUX (terminal multiplexer), so you can run multiple terminal (command line) windows in parallel.\n",
    "\n",
    "### 2. Set up a tool for virtual environments\n",
    "Virtual environments are a great way to separate your package dependencies and even your Python versions. I highly recommend miniconda (called 'conda') -- since it is not limited to Python; you can even set up an R environment with conda. Alternatives are virtualenv and pipenv. If you already work with virtual environments, you can skip this step. Otherwise\n",
    "1. install miniconda; now that you have some basic command line skills, it's probably easiest to use the Quick Command Line Install (just choose your operating system and follow the instructions)\n",
    "2. with the help of the cheatsheet: create a new virtual environment in which you install Python version 3.11, give it the name `dsa` (to do this, run `conda create -n dsa python=3.11`)\n",
    "3. double check you have successfully installed the environment by running the conda command that lists all environments\n",
    "4. activate the new environment that you created\n",
    "5. list the packages that are installed within this environment\n",
    "\n",
    "\n",
    "### 3. Create a new git repo (or clone an existing one)\n",
    "Using version control with git will make your collaborators' and future self's life *a lot* easier. It helps you to track your own changes on a project and to collaborate effectively with your teams. Generally, this part of the work flow will consist of creating a new repo or cloning an existing one from Github. The steps are\n",
    "1. install git (run `git --version` to check if you already have it installed)\n",
    "2. to clone the existing DS&A labs repository, such as the one for these labs, run `git clone https://github.com/lenafm/data_structures_and_algorithms_2024.git` and then move into the new directory that this creates, now create and move into a new branch by running `git checkout -b lab1` (where lab1 is now the name of the branch you have created)\n",
    "\n",
    "### 4. Set up Jupyter notebooks\n",
    "Jupyter notebooks are a great way for quick experimentation with code, to present code, or to create data science work flows. The final functions and classes (and testing) that you write for a project should **not** sit in Jupyter notebook. Those should be written in `.py` files (aka Python modules) or, even better, in Python packages. One best-practice tip: start your code experiments in a Jupyter notebook and once you find yourself using some functions/classes repeatedly or think you might need them in other notebooks, migrate them into Python modules (and later to a package). To run this Jupyter notebook, follow these steps:\n",
    "1. make sure the `dsa` environment you created in step 2 is activated\n",
    "2. install jupyter into this environment using the `pip install jupyter` command (installing something *into* an environment just means that you need to run the installation command after having activated the environment)\n",
    "3. now move into the directory for the DS&A repository that you cloned in step 3 (called `data_structures_and_algorithms_2024`).\n",
    "4. run `jupyter notebook`; this will start your default browser (or open a new tab) and you should now see a folder structure that includes the Jupyter notebook file `lab1.ipynb`\n",
    "5. click on `lab1.ipynb` to run it and familiarise yourself with the keyboard shortcuts for running cells, creating new cells (above and below the current cell), and removing cells.\n",
    "\n",
    "### 5. Set up your IDE\n",
    "After step 4., you can now write code in Jupyter notebooks. For the type of coding necessary for larger (and collaborative) projects, you'll also need an IDE (integrated development environment), such as PyCharm. This is where you'll write classes, functions, helper functions, tests etc. I recommend PyCharm, because it has many 'intelligent code' features such as code prediction, readability, error detection, easy refactoring, and because it provides debugging tools.\n",
    "1. install the free PyCharm Community edition (there's also a PyCharm Professional which is not free, but you can register with them as a student to get the Professional version for free)\n",
    "2. create a new PyCharm project for the DS&A labs: <br>\n",
    "    i. on the `New Project` screen, set the `Location` path to the path to the `data_structures_and_algorithms_2024` directory <br>\n",
    "    ii. change the radio button from `New encironment using ...` to `Previously configured interpreter` <br>\n",
    "    iii. in the `Interpreter` dropdown menu, choose the Python installation that is within the `dsa` conda environment you created above<br>\n",
    "4. we will use this set-up in later labs!\n"
   ]
  },
  {
   "cell_type": "markdown",
   "metadata": {
    "collapsed": false,
    "jupyter": {
     "outputs_hidden": false
    },
    "pycharm": {
     "name": "#%% md\n"
    }
   },
   "source": [
    "## Let's get coding! <a class=\"anchor\" id=\"exercises\"></a>"
   ]
  },
  {
   "cell_type": "markdown",
   "metadata": {
    "collapsed": false,
    "jupyter": {
     "outputs_hidden": false
    },
    "pycharm": {
     "name": "#%% md\n"
    }
   },
   "source": [
    "### Exercise 1\n",
    "Write a function that prints a string to the screen."
   ]
  },
  {
   "cell_type": "code",
   "execution_count": 1,
   "metadata": {
    "collapsed": false,
    "jupyter": {
     "outputs_hidden": false
    },
    "pycharm": {
     "name": "#%%\n"
    }
   },
   "outputs": [],
   "source": [
    "def print_string(x):\n",
    "    \"\"\"\n",
    "    Print the input string\n",
    "\n",
    "    Parameters\n",
    "    ----------\n",
    "    x : a string\n",
    "    \"\"\"\n",
    "\n",
    "    # Implement me\n",
    "    return print(x)"
   ]
  },
  {
   "cell_type": "code",
   "execution_count": 2,
   "metadata": {},
   "outputs": [
    {
     "name": "stdout",
     "output_type": "stream",
     "text": [
      "Hi there!\n"
     ]
    }
   ],
   "source": [
    "print_string('Hi there!')"
   ]
  },
  {
   "cell_type": "markdown",
   "metadata": {
    "collapsed": false,
    "jupyter": {
     "outputs_hidden": false
    },
    "pycharm": {
     "name": "#%% md\n"
    }
   },
   "source": [
    "### Exercise 2\n",
    "Write a function that takes a name of a person as an input and prints 'Hello ', followed by the name."
   ]
  },
  {
   "cell_type": "code",
   "execution_count": 3,
   "metadata": {
    "collapsed": false,
    "jupyter": {
     "outputs_hidden": false
    },
    "pycharm": {
     "name": "#%%\n"
    }
   },
   "outputs": [],
   "source": [
    "def greet_someone(x):\n",
    "    \"\"\"\n",
    "    Print 'Hello ' followed by the input string\n",
    "\n",
    "    Parameters\n",
    "    ----------\n",
    "    x : a string\n",
    "    \"\"\"\n",
    "\n",
    "    # Implement me\n",
    "    if not isinstance(x, str):\n",
    "        raise TypeError('The input should be a string')\n",
    "    x = x.capitalize()\n",
    "    greeting_txt = 'Hello '\n",
    "    if x in ['Margaret', 'Henry']:\n",
    "        greeting_txt = 'Dearest '\n",
    "    return print(greeting_txt + x)"
   ]
  },
  {
   "cell_type": "code",
   "execution_count": 4,
   "metadata": {},
   "outputs": [
    {
     "name": "stdout",
     "output_type": "stream",
     "text": [
      "Hello Quentin\n"
     ]
    }
   ],
   "source": [
    "greet_someone('Quentin')"
   ]
  },
  {
   "cell_type": "code",
   "execution_count": 5,
   "metadata": {},
   "outputs": [
    {
     "name": "stdout",
     "output_type": "stream",
     "text": [
      "Dearest Margaret\n"
     ]
    }
   ],
   "source": [
    "greet_someone('margaret')"
   ]
  },
  {
   "cell_type": "code",
   "execution_count": 6,
   "metadata": {},
   "outputs": [
    {
     "ename": "TypeError",
     "evalue": "The input should be a string",
     "output_type": "error",
     "traceback": [
      "\u001B[0;31m---------------------------------------------------------------------------\u001B[0m",
      "\u001B[0;31mTypeError\u001B[0m                                 Traceback (most recent call last)",
      "Cell \u001B[0;32mIn[6], line 1\u001B[0m\n\u001B[0;32m----> 1\u001B[0m \u001B[43mgreet_someone\u001B[49m\u001B[43m(\u001B[49m\u001B[38;5;241;43m7\u001B[39;49m\u001B[43m)\u001B[49m\n",
      "Cell \u001B[0;32mIn[3], line 12\u001B[0m, in \u001B[0;36mgreet_someone\u001B[0;34m(x)\u001B[0m\n\u001B[1;32m     10\u001B[0m \u001B[38;5;66;03m# Implement me\u001B[39;00m\n\u001B[1;32m     11\u001B[0m \u001B[38;5;28;01mif\u001B[39;00m \u001B[38;5;129;01mnot\u001B[39;00m \u001B[38;5;28misinstance\u001B[39m(x, \u001B[38;5;28mstr\u001B[39m):\n\u001B[0;32m---> 12\u001B[0m     \u001B[38;5;28;01mraise\u001B[39;00m \u001B[38;5;167;01mTypeError\u001B[39;00m(\u001B[38;5;124m'\u001B[39m\u001B[38;5;124mThe input should be a string\u001B[39m\u001B[38;5;124m'\u001B[39m)\n\u001B[1;32m     13\u001B[0m x \u001B[38;5;241m=\u001B[39m x\u001B[38;5;241m.\u001B[39mcapitalize()\n\u001B[1;32m     14\u001B[0m greeting_txt \u001B[38;5;241m=\u001B[39m \u001B[38;5;124m'\u001B[39m\u001B[38;5;124mHello \u001B[39m\u001B[38;5;124m'\u001B[39m\n",
      "\u001B[0;31mTypeError\u001B[0m: The input should be a string"
     ]
    }
   ],
   "source": [
    "greet_someone(7)"
   ]
  },
  {
   "cell_type": "markdown",
   "metadata": {
    "collapsed": false,
    "jupyter": {
     "outputs_hidden": false
    },
    "pycharm": {
     "name": "#%% md\n"
    }
   },
   "source": [
    "EXTENSION\n",
    "\n",
    "Try to modify the previous function in a few ways (one step at a time):\n",
    "\n",
    "* ensure that the first letter of the name is capitalised when printed\n",
    "* when the names that are passed are 'Margaret' or 'Henry', they should be greeted with 'Dearest ' instead of 'Hello '\n",
    "* include some more code that checks if the input is a string; if it isn't a string, the function should return `None`. *Hint: Look up how to use the `isinstance()` function; think about where in the function this should go!*\n",
    "* now rewrite this again, this time make the function raise an error if the input is not a string. *Hint: Look up how to deal with a `TypeError` exception in Python.*"
   ]
  },
  {
   "cell_type": "markdown",
   "metadata": {
    "collapsed": false,
    "jupyter": {
     "outputs_hidden": false
    },
    "pycharm": {
     "name": "#%% md\n"
    }
   },
   "source": [
    "### Exercise 3\n",
    "Write a function that takes as an input two numeric values `a` and `b` and returns their sum."
   ]
  },
  {
   "cell_type": "code",
   "execution_count": 7,
   "metadata": {
    "collapsed": false,
    "jupyter": {
     "outputs_hidden": false
    },
    "pycharm": {
     "name": "#%%\n"
    }
   },
   "outputs": [],
   "source": [
    "def sum_two_values(a, b):\n",
    "    \"\"\"\n",
    "    Sum up two numeric values\n",
    "\n",
    "    Parameters\n",
    "    ----------\n",
    "    a : a numeric value\n",
    "    b : a second numeric value\n",
    "    \"\"\"\n",
    "\n",
    "    # Implement me\n",
    "    if isinstance(a, (int, float)) and isinstance(b, (int, float)):\n",
    "        return a+b\n",
    "    else:\n",
    "        raise TypeError('Both inputs need to be of type int or float')"
   ]
  },
  {
   "cell_type": "code",
   "execution_count": 8,
   "metadata": {},
   "outputs": [
    {
     "data": {
      "text/plain": [
       "8"
      ]
     },
     "execution_count": 8,
     "metadata": {},
     "output_type": "execute_result"
    }
   ],
   "source": [
    "sum_two_values(3,5)"
   ]
  },
  {
   "cell_type": "code",
   "execution_count": 9,
   "metadata": {},
   "outputs": [
    {
     "ename": "TypeError",
     "evalue": "Both inputs need to be of type int or float",
     "output_type": "error",
     "traceback": [
      "\u001B[0;31m---------------------------------------------------------------------------\u001B[0m",
      "\u001B[0;31mTypeError\u001B[0m                                 Traceback (most recent call last)",
      "Cell \u001B[0;32mIn[9], line 1\u001B[0m\n\u001B[0;32m----> 1\u001B[0m \u001B[43msum_two_values\u001B[49m\u001B[43m(\u001B[49m\u001B[38;5;124;43m'\u001B[39;49m\u001B[38;5;124;43msome text\u001B[39;49m\u001B[38;5;124;43m'\u001B[39;49m\u001B[43m,\u001B[49m\u001B[43m \u001B[49m\u001B[38;5;241;43m6\u001B[39;49m\u001B[43m)\u001B[49m\n",
      "Cell \u001B[0;32mIn[7], line 15\u001B[0m, in \u001B[0;36msum_two_values\u001B[0;34m(a, b)\u001B[0m\n\u001B[1;32m     13\u001B[0m     \u001B[38;5;28;01mreturn\u001B[39;00m a\u001B[38;5;241m+\u001B[39mb\n\u001B[1;32m     14\u001B[0m \u001B[38;5;28;01melse\u001B[39;00m:\n\u001B[0;32m---> 15\u001B[0m     \u001B[38;5;28;01mraise\u001B[39;00m \u001B[38;5;167;01mTypeError\u001B[39;00m(\u001B[38;5;124m'\u001B[39m\u001B[38;5;124mBoth inputs need to be of type int or float\u001B[39m\u001B[38;5;124m'\u001B[39m)\n",
      "\u001B[0;31mTypeError\u001B[0m: Both inputs need to be of type int or float"
     ]
    }
   ],
   "source": [
    "sum_two_values('some text', 6)"
   ]
  },
  {
   "cell_type": "markdown",
   "metadata": {
    "collapsed": false,
    "jupyter": {
     "outputs_hidden": false
    },
    "pycharm": {
     "name": "#%% md\n"
    }
   },
   "source": [
    "EXTENSION\n",
    "\n",
    "Try to modify the previous function to:\n",
    "\n",
    "* raise an error if one of the two values is NOT a number. *Hint: Check for the types `int` and `float`.*"
   ]
  },
  {
   "cell_type": "markdown",
   "metadata": {},
   "source": [
    "### Exercise 4\n",
    "Write a function that takes an integer x > 1 as an input and returns the sum of all integers 1 to x (including x)."
   ]
  },
  {
   "cell_type": "code",
   "execution_count": 10,
   "metadata": {},
   "outputs": [],
   "source": [
    "def sum_integers(x):\n",
    "    \"\"\"\n",
    "    Return the sum of integers 1 to (and including) x.\n",
    "\n",
    "    Parameters\n",
    "    ----------\n",
    "    x : an integer\n",
    "    \"\"\"\n",
    "\n",
    "    # Implement me\n",
    "    current_sum = 0\n",
    "    for i in range(x+1):\n",
    "        current_sum += i\n",
    "    return current_sum"
   ]
  },
  {
   "cell_type": "code",
   "execution_count": 11,
   "metadata": {},
   "outputs": [],
   "source": [
    "def sum_integers2(x):\n",
    "    \"\"\"\n",
    "    Return the sum of integers 1 to (and including) x, using list comprehension.\n",
    "\n",
    "    Parameters\n",
    "    ----------\n",
    "    x : an integer\n",
    "    \"\"\"\n",
    "\n",
    "    # Implement me\n",
    "    integer_list = [i for i in range(x+1)]\n",
    "    return sum(integer_list)"
   ]
  },
  {
   "cell_type": "code",
   "execution_count": 12,
   "metadata": {},
   "outputs": [
    {
     "data": {
      "text/plain": [
       "10"
      ]
     },
     "execution_count": 12,
     "metadata": {},
     "output_type": "execute_result"
    }
   ],
   "source": [
    "sum_integers(4)"
   ]
  },
  {
   "cell_type": "code",
   "execution_count": 13,
   "metadata": {},
   "outputs": [
    {
     "data": {
      "text/plain": [
       "10"
      ]
     },
     "execution_count": 13,
     "metadata": {},
     "output_type": "execute_result"
    }
   ],
   "source": [
    "sum_integers2(4)"
   ]
  },
  {
   "cell_type": "markdown",
   "metadata": {},
   "source": [
    "EXTENSION\n",
    "\n",
    "Write an alternative version of this function called `sum_integers2` using something called 'list comprehension' and the built-in `sum` function."
   ]
  },
  {
   "cell_type": "markdown",
   "metadata": {
    "collapsed": false,
    "jupyter": {
     "outputs_hidden": false
    },
    "pycharm": {
     "name": "#%% md\n"
    }
   },
   "source": [
    "### Exercise 5\n",
    "Write a function that checks if an integer is a multiple of another integer."
   ]
  },
  {
   "cell_type": "code",
   "execution_count": 14,
   "metadata": {
    "collapsed": false,
    "jupyter": {
     "outputs_hidden": false
    },
    "pycharm": {
     "name": "#%%\n"
    }
   },
   "outputs": [],
   "source": [
    "def is_multiple(a, b):\n",
    "    \"\"\"\n",
    "    Return True if integer a is a multiple of integer b.\n",
    "\n",
    "    Parameters\n",
    "    ----------\n",
    "    a : an integer\n",
    "    b : another integer\n",
    "    \"\"\"\n",
    "\n",
    "    # Implement me\n",
    "    return a % b == 0"
   ]
  },
  {
   "cell_type": "code",
   "execution_count": 15,
   "metadata": {},
   "outputs": [
    {
     "data": {
      "text/plain": [
       "False"
      ]
     },
     "execution_count": 15,
     "metadata": {},
     "output_type": "execute_result"
    }
   ],
   "source": [
    "is_multiple(4,3)"
   ]
  },
  {
   "cell_type": "code",
   "execution_count": 16,
   "metadata": {},
   "outputs": [
    {
     "data": {
      "text/plain": [
       "True"
      ]
     },
     "execution_count": 16,
     "metadata": {},
     "output_type": "execute_result"
    }
   ],
   "source": [
    "is_multiple(16,4)"
   ]
  },
  {
   "cell_type": "markdown",
   "metadata": {
    "collapsed": false,
    "jupyter": {
     "outputs_hidden": false
    },
    "pycharm": {
     "name": "#%% md\n"
    }
   },
   "source": [
    "### Exercise 6\n",
    "Use the function written in Exercise 4 to write a function that checks if an integer is even."
   ]
  },
  {
   "cell_type": "code",
   "execution_count": 17,
   "metadata": {
    "collapsed": false,
    "jupyter": {
     "outputs_hidden": false
    },
    "pycharm": {
     "name": "#%%\n"
    }
   },
   "outputs": [],
   "source": [
    "def is_even(x):\n",
    "    \"\"\"\n",
    "    Return True if integer x is even.\n",
    "\n",
    "    Parameters\n",
    "    ----------\n",
    "    x : an integer\n",
    "    \"\"\"\n",
    "\n",
    "    # Implement me\n",
    "    return is_multiple(x, 2)"
   ]
  },
  {
   "cell_type": "code",
   "execution_count": 18,
   "metadata": {},
   "outputs": [
    {
     "data": {
      "text/plain": [
       "False"
      ]
     },
     "execution_count": 18,
     "metadata": {},
     "output_type": "execute_result"
    }
   ],
   "source": [
    "is_even(5)"
   ]
  },
  {
   "cell_type": "code",
   "execution_count": 19,
   "metadata": {},
   "outputs": [
    {
     "data": {
      "text/plain": [
       "True"
      ]
     },
     "execution_count": 19,
     "metadata": {},
     "output_type": "execute_result"
    }
   ],
   "source": [
    "is_even(6)"
   ]
  },
  {
   "cell_type": "markdown",
   "metadata": {
    "collapsed": false,
    "jupyter": {
     "outputs_hidden": false
    },
    "pycharm": {
     "name": "#%% md\n"
    }
   },
   "source": [
    "### Exercise 7\n",
    "Write a function to determine the sum of all the multiples of 3 or 5 below 1000. *Hint: You could, again, use the function written in Exercise 4 and adapt it using the function written in Exercise 5.*"
   ]
  },
  {
   "cell_type": "code",
   "execution_count": 26,
   "metadata": {
    "collapsed": false,
    "jupyter": {
     "outputs_hidden": false
    },
    "pycharm": {
     "name": "#%%\n"
    }
   },
   "outputs": [],
   "source": [
    "def calculate_sum_of_multiples(x):\n",
    "    \"\"\"\n",
    "    Return the sum of multiples of 3 and 5 below the input value x. \n",
    "\n",
    "    Parameters\n",
    "    ----------\n",
    "    x : an integer\n",
    "    \"\"\"\n",
    "\n",
    "    # Implement me\n",
    "    return sum([x for x in range(x) if (is_multiple(x, 3) or is_multiple(x, 5))])"
   ]
  },
  {
   "cell_type": "code",
   "execution_count": 27,
   "metadata": {},
   "outputs": [
    {
     "data": {
      "text/plain": [
       "233168"
      ]
     },
     "execution_count": 27,
     "metadata": {},
     "output_type": "execute_result"
    }
   ],
   "source": [
    "calculate_sum_of_multiples(1000)"
   ]
  },
  {
   "cell_type": "markdown",
   "metadata": {},
   "source": [
    "### Exercise 8\n",
    "Determine the 20th Fibonacci number. For this, write a function to return the nth term of the Fibonacci sequence, with the first two terms being $x_0 = 0$ and $x_1 = 1$. The Fibonacci sequence continues by adding the previous two terms, so with these two starting values, the first few terms of the sequence are $0, 1, 1, 2, 3, 5, 8, 13, 21, 34, 55, 89, ...$."
   ]
  },
  {
   "cell_type": "code",
   "execution_count": 28,
   "metadata": {},
   "outputs": [],
   "source": [
    "def fibonacci(n):\n",
    "    \"\"\"\n",
    "    Return the nth value in the fibonacci sequence.\n",
    "\n",
    "    Parameters\n",
    "    ----------\n",
    "    n : an integer\n",
    "    \"\"\"\n",
    "\n",
    "    # Implement me\n",
    "    if n==1 or n==2:\n",
    "        return 1\n",
    "\n",
    "    x_minus_1 = 1\n",
    "    x = 1\n",
    "    idx = 2\n",
    "    while idx < n:\n",
    "        temp = x\n",
    "        x = x + x_minus_1\n",
    "        x_minus_1 = temp\n",
    "        idx = idx + 1\n",
    "\n",
    "    return x"
   ]
  },
  {
   "cell_type": "code",
   "execution_count": 29,
   "metadata": {},
   "outputs": [
    {
     "data": {
      "text/plain": [
       "6765"
      ]
     },
     "execution_count": 29,
     "metadata": {},
     "output_type": "execute_result"
    }
   ],
   "source": [
    "fibonacci(20)"
   ]
  },
  {
   "cell_type": "markdown",
   "metadata": {},
   "source": [
    "### Exercise 9\n",
    "Determine the sum of the even terms in the Fibonacci sequence (below 4 million). *Hint: Write a function that sums even terms below some integer n. Can you use the functions you implemented for Exercises 6 and 8?*"
   ]
  },
  {
   "cell_type": "code",
   "execution_count": 30,
   "metadata": {},
   "outputs": [],
   "source": [
    "def sum_even_fibonacci(x_max):\n",
    "    \"\"\"\n",
    "    Sum even fibonacci numbers below x_max.\n",
    "\n",
    "    Parameters\n",
    "    ----------\n",
    "    x_max : an integer\n",
    "    \"\"\"\n",
    "\n",
    "    # Implement me\n",
    "    current_sum = 0\n",
    "\n",
    "    x_minus_1 = 1\n",
    "    x = 1\n",
    "    idx = 2\n",
    "    while x < x_max :\n",
    "        temp = x\n",
    "        x = x + x_minus_1\n",
    "        if is_even(x):\n",
    "            current_sum += x\n",
    "        x_minus_1 = temp\n",
    "        idx = idx + 1\n",
    "\n",
    "    return current_sum"
   ]
  },
  {
   "cell_type": "code",
   "execution_count": 31,
   "metadata": {},
   "outputs": [
    {
     "data": {
      "text/plain": [
       "4613732"
      ]
     },
     "execution_count": 31,
     "metadata": {},
     "output_type": "execute_result"
    }
   ],
   "source": [
    "sum_even_fibonacci(4000000)"
   ]
  }
 ],
 "metadata": {
  "kernelspec": {
   "display_name": "Python 3 (ipykernel)",
   "language": "python",
   "name": "python3"
  },
  "language_info": {
   "codemirror_mode": {
    "name": "ipython",
    "version": 3
   },
   "file_extension": ".py",
   "mimetype": "text/x-python",
   "name": "python",
   "nbconvert_exporter": "python",
   "pygments_lexer": "ipython3",
   "version": "3.11.7"
  }
 },
 "nbformat": 4,
 "nbformat_minor": 4
}