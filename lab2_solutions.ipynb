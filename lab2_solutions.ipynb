{
 "cells": [
  {
   "cell_type": "markdown",
   "metadata": {
    "collapsed": true,
    "jupyter": {
     "outputs_hidden": true
    },
    "pycharm": {
     "name": "#%% md\n"
    }
   },
   "source": [
    "# Lab 2\n",
    "## Data Structures & Algorithms\n",
    "### Thursday, 15 February 2024"
   ]
  },
  {
   "cell_type": "markdown",
   "metadata": {
    "collapsed": false,
    "jupyter": {
     "outputs_hidden": false
    },
    "pycharm": {
     "name": "#%% md\n"
    }
   },
   "source": [
    "## Today\n",
    "\n",
    "* [What is flask?](#flask)\n",
    "* [Web development resources](#resources)\n",
    "* [Create your first flask app](#first)\n",
    "    * [Install flask](#install)\n",
    "    * [Set-up your flask app](#setup)\n",
    "    * [Run your flask app](#run)\n",
    "    * [Make changes to your app](#changes)\n",
    "    * [Create new pages](#newpages)\n",
    "    * [Pass variables to your webpage](#variables)\n",
    "    * [Use templates](#templates)\n",
    "    * [Some HTML and CSS basics](#html)\n",
    "* [Exercises](#exercises)"
   ]
  },
  {
   "cell_type": "markdown",
   "metadata": {},
   "source": [
    "## What is flask and why should we use it? <a class=\"anchor\" id=\"flask\"></a>"
   ]
  },
  {
   "cell_type": "markdown",
   "metadata": {},
   "source": [
    "* a 'microframework' to develop web applications using Python - a minimalist framework in the sense that is more flexible than normal frameworks (it does not mean that it lacks functionality)\n",
    "* it is based on subsystems that deal with details that you don't want to worry about (unless you are a senior web developer), such as routing, templating, etc. - if you are interested in more details about how Flask is designed, see this [post](https://flask.palletsprojects.com/en/2.2.x/design/#)\n",
    "* Flask is 'Pythonic', so it makes sense to learn it while learning Python\n",
    "* it's explicit and therefore very readable"
   ]
  },
  {
   "cell_type": "markdown",
   "metadata": {
    "collapsed": false,
    "jupyter": {
     "outputs_hidden": false
    },
    "pycharm": {
     "name": "#%% md\n"
    }
   },
   "source": [
    "## Web development resources <a class=\"anchor\" id=\"resources\"></a>"
   ]
  },
  {
   "cell_type": "markdown",
   "metadata": {
    "collapsed": false,
    "jupyter": {
     "outputs_hidden": false
    },
    "pycharm": {
     "name": "#%% md\n"
    }
   },
   "source": [
    "There are many good tutorials for creating flask apps, here is a selection:\n",
    "\n",
    "* the [Quickstart](https://flask.palletsprojects.com/en/3.0.x/quickstart/) example is a great place to start building flask apps\n",
    "* this [YouTube series](https://www.youtube.com/watch?v=MwZwr5Tvyxo&list=PL-osiE80TeTs4UjLw5MM6OjgkjFeUxCYH) is a more detailed step-by-step tutorial for how to build a web app in flask (the first two are relevant for this lab)\n",
    "* to lookup how to create templates in your flask app, use this [flask templates CHEATSHEET](https://www.codecademy.com/learn/learn-flask/modules/flask-templates-and-forms/cheatsheet)\n",
    "* to get started with creating content for the individual pages of your app, use this interactive [HTML CHEATSHEET](https://htmlcheatsheet.com/)\n",
    "* for styling your pages, there is also a useful [CSS CHEATSHEET](https://htmlcheatsheet.com/css/) on the same website\n"
   ]
  },
  {
   "cell_type": "markdown",
   "metadata": {
    "collapsed": false,
    "jupyter": {
     "outputs_hidden": false
    },
    "pycharm": {
     "name": "#%% md\n"
    }
   },
   "source": [
    "## Create your first flask app <a class=\"anchor\" id=\"first\"></a>"
   ]
  },
  {
   "cell_type": "markdown",
   "metadata": {
    "collapsed": false,
    "jupyter": {
     "outputs_hidden": false
    },
    "pycharm": {
     "name": "#%% md\n"
    }
   },
   "source": [
    "### 1. Install flask <a class=\"anchor\" id=\"install\"></a>"
   ]
  },
  {
   "cell_type": "markdown",
   "metadata": {
    "collapsed": false,
    "jupyter": {
     "outputs_hidden": false
    },
    "pycharm": {
     "name": "#%% md\n"
    }
   },
   "source": [
    "* create virtual environment for your flask app and install flask into it\n",
    "    * `conda create -n name_of_your_venv python=3.11`\n",
    "    * `conda activate name_of_your_venv`\n",
    "    * `pip install flask`"
   ]
  },
  {
   "cell_type": "markdown",
   "metadata": {
    "collapsed": false,
    "jupyter": {
     "outputs_hidden": false
    },
    "pycharm": {
     "name": "#%% md\n"
    }
   },
   "source": [
    "### 2. Set-up your flask app <a class=\"anchor\" id=\"setup\"></a>"
   ]
  },
  {
   "cell_type": "markdown",
   "metadata": {
    "collapsed": false,
    "jupyter": {
     "outputs_hidden": false
    },
    "pycharm": {
     "name": "#%% md\n"
    }
   },
   "source": [
    "* create a new directory for the web app project, (remember that you can use `mkdir app_name` on the command line, to create a directory with this name into the directory in which you are currently located)\n",
    "* open this folder as a new project in PyCharm (or within any other IDE or code ed the code editor you're using)\n",
    "* create a new Python file called `flaskapp.py` inside the project directory and copy the following code into it (you can give the `.py` fall any other name, just don't call it `flask.py` -- this would cause a conflict with other functions in the package)\n",
    "\n",
    "```python\n",
    "from flask import Flask\n",
    "\n",
    "app = Flask(__name__)\n",
    "\n",
    "@app.route(\"/\")\n",
    "def home():\n",
    "    return \"Home Page\"\n",
    "```"
   ]
  },
  {
   "cell_type": "markdown",
   "metadata": {
    "collapsed": false,
    "jupyter": {
     "outputs_hidden": false
    },
    "pycharm": {
     "name": "#%% md\n"
    }
   },
   "source": [
    "### 3. Run your flask app <a class=\"anchor\" id=\"run\"></a>"
   ]
  },
  {
   "cell_type": "markdown",
   "metadata": {
    "collapsed": false,
    "jupyter": {
     "outputs_hidden": false
    },
    "pycharm": {
     "name": "#%% md\n"
    }
   },
   "source": [
    "* in the command line, navigate into the directory in which the `flaskapp.py` module lives\n",
    "* now you can run the flask app by `flask --app flaskapp run`, where the `--app flaskapp` part is telling Flask where the application is\n",
    "* if there are no errors, the last line of what is now returned should read `Running on http://127.0.0.1:5000/`, where the numbers before the colon`:` are the IP address of your local machine and `5000` is the port number\n",
    "* if the port is already being used by another programme, you might see an `OSError` error; in this case, specify a different port, e.g. `flask --app flaskapp run --port 5001`\n",
    "* once you see the `Running on ` message, copy the address and paste it into your browser\n",
    "* there is also an alias for your computer's IP address, called `localhost`: you can replace the numbers before the colon (the `127.0.0.1` part) with this word and the browser will show the same result\n",
    "* if you're interested to see the source code of your app (i.e. the HTML code that Python and flask have generated), you can right-click on your app and open View Page Source"
   ]
  },
  {
   "cell_type": "markdown",
   "metadata": {
    "collapsed": false,
    "jp-MarkdownHeadingCollapsed": true,
    "jupyter": {
     "outputs_hidden": false
    },
    "pycharm": {
     "name": "#%% md\n"
    }
   },
   "source": [
    "### 4. Make some first changes to your app <a class=\"anchor\" id=\"changes\"></a>"
   ]
  },
  {
   "cell_type": "markdown",
   "metadata": {},
   "source": [
    "* now, add some HTML to the code in `flaskapp.py`, by adding HTML heading tags to the text, which will make the text larger. This means replacing `\"Home Page\"` in the `home` function by `\"<h1>Home Page</h1>\"`\n",
    "* to see the changes in your app, you need to stop the web server (by using `CTRL+C` in the command line) and then re-run it (using `flask run` again) -- the font should now be bigger\n",
    "* to get around having to restart your app by running the application in debug mode: stop the current app, set another environment variable `export FLASK_DEBUG=1` (or `set` in Windows), then rerun the app\n",
    "* to avoid having to restart your app every time you make changes to your code, you can run it in debug mode; to do this you can either run `flask --app flaskapp run --debug` when you are starting your app\n",
    "* (optional) alternatively, you can add the below lines to the bottom of your `flaskapp.py` script and then rerun the app by running the `flaskapp.py` file directly in the command line (write `python flaskapp.py` and execute it, instead of `flask --app flaskapp run`)\n",
    "\n",
    "```python\n",
    "if __name__ == '__main__':\n",
    "    app.run(debug=True)\n",
    "```\n",
    "\n",
    "* (optional) for more advanced debugging options (e.g. what to do when you are debugging your app using PyCharm's built-in debugger), see [these](https://flask.palletsprojects.com/en/3.0.x/debugging/) instructions"
   ]
  },
  {
   "cell_type": "markdown",
   "metadata": {
    "collapsed": false,
    "jupyter": {
     "outputs_hidden": false
    },
    "pycharm": {
     "name": "#%% md\n"
    }
   },
   "source": [
    "### 5. Create new pages with routing <a class=\"anchor\" id=\"newpages\"></a>"
   ]
  },
  {
   "cell_type": "markdown",
   "metadata": {
    "collapsed": false,
    "jupyter": {
     "outputs_hidden": false
    },
    "pycharm": {
     "name": "#%% md\n"
    }
   },
   "source": [
    "* let's create a second page for your app; we want the user to get directed to this app when typing `/hello` after the URL\n",
    "* we now need to use the `route()` decorator, to bind your Python function to your URL\n",
    "* copy and paste the following lines into your `flaskapp.py` file:\n",
    "  \n",
    "```python\n",
    "@app.route(\"/hello\")\n",
    "def hello():\n",
    "    return \"<h1>Hello, Berlin!</h1>\"\n",
    "```\n",
    "\n",
    "* now add `/hello` at the end of the address in your browser and refresh\n",
    "* if you want to have multiple routes take you to the same page (e.g. if you want `/home` to also take you to the home page), add `@app.route(\"/home\")` directly underneath `@app.route(\"/\")`"
   ]
  },
  {
   "cell_type": "markdown",
   "metadata": {
    "collapsed": false,
    "jupyter": {
     "outputs_hidden": false
    },
    "pycharm": {
     "name": "#%% md\n"
    }
   },
   "source": [
    "### 6. Pass variables to your webpage <a class=\"anchor\" id=\"variables\"></a>"
   ]
  },
  {
   "cell_type": "markdown",
   "metadata": {
    "collapsed": false,
    "jupyter": {
     "outputs_hidden": false
    },
    "pycharm": {
     "name": "#%% md\n"
    }
   },
   "source": [
    "* to make the 'hello' subpage dynamic by enabling the passing of variables through the URL, the `route()` decorator needs to be updated to accept your variable name in the form `<variable_name>`\n",
    "* to do that, update your`flaskapp.py` script as below, and check that you can now pass city names (or any other strings) to your URL:\n",
    "  \n",
    "```python\n",
    "@app.route(\"/hello/<city>\")\n",
    "def hello(city):\n",
    "    return f\"<h1>Hello, {city}!</h1>\"\n",
    "```"
   ]
  },
  {
   "cell_type": "markdown",
   "metadata": {
    "collapsed": false,
    "jupyter": {
     "outputs_hidden": false
    },
    "pycharm": {
     "name": "#%% md\n"
    }
   },
   "source": [
    "### 7. Add more content by using templates <a class=\"anchor\" id=\"templates\"></a>"
   ]
  },
  {
   "cell_type": "markdown",
   "metadata": {
    "collapsed": false,
    "jupyter": {
     "outputs_hidden": false
    },
    "pycharm": {
     "name": "#%% md\n"
    }
   },
   "source": [
    "* to integrate more complex content in the shape of HTML code, we use something called 'templates', rather than including HTML code directly into the `return` part of the functions in `flaskapp.py`\n",
    "* to include templates, create a directory called `templates` in your project root directory; inside, create a new file called `home.html`\n",
    "* copy the following code into this file; this is a template for a very basic HTML page -- for an explanation of the different parts, see this [introduction](https://ryanstutorials.net/html-tutorial/html-template.php)\n",
    "\n",
    "```html\n",
    "<!doctype html>\n",
    "<html>\n",
    "<head>\n",
    "    <title>Home</title>\n",
    "    <meta name=\"description\" content=\"My home page, on which I showcase my work!\">\n",
    "    <meta name=\"keywords\" content=\"personal home page\">\n",
    "</head>\n",
    "<body>\n",
    "    <h1>Home Page</h1>\n",
    "    This is where you will put the content of this page.\n",
    "</body>\n",
    "</html>\n",
    "```\n",
    "\n",
    "* to use this template in your app, you need to 'render' it by using the render function from Flask:\n",
    "    * import this function by changing the very first line of your `flaskapp.py` file to `from flask import Flask, render_template`\n",
    "    * update your `home` function to return `render_template('home.html')` instead of `\"<h1>Home Page</h1>\"`\n",
    "* you can pass variables to the `render_template` function, by specifying them in the function call and updating the HTML code; to try this,\n",
    "    * pass a new heading to the `home.html` template by updating the function that renders it to `render_template('home.html', heading = 'My personal home page')`\n",
    "    * update your HTML code by the by replacing the h1 tag inside the body by `{{ heading }}`: the part inside the `<body>` tags in your `home.html` file should look like `<h1>{{ heading }}</h1>` instead of `<h1>Home Page</h1>`\n",
    "* now change your home template to make the displayed heading depending on what the input given to `render_template`:\n",
    "```HTML\n",
    "<body>\n",
    "{% if heading %}\n",
    "    <h1>{{ heading }}</h1>\n",
    "{% else %}\n",
    "    <h1>Home Page</h1>\n",
    "{% endif %}\n",
    "    This is where you will put the content of this page.\n",
    "</body>\n",
    "```"
   ]
  },
  {
   "cell_type": "markdown",
   "metadata": {},
   "source": [
    "### 8. Some very basic HTML and CSS  <a class=\"anchor\" id=\"html\"></a>"
   ]
  },
  {
   "cell_type": "markdown",
   "metadata": {},
   "source": [
    "* now let us add some very basic styling to your home page by adapting your HTML code and adding some CSS\n",
    "* first, wrap the text that you have placed within the body tag in a div tag and assign it a class called 'myDiv', so the new content of your body tag looks like this:\n",
    "```HTML\n",
    "<body>\n",
    "<div class=\"myDiv\">\n",
    "{% if heading %}\n",
    "    <h1>{{ heading }}</h1>\n",
    "{% else %}\n",
    "    <h1>Home Page</h1>\n",
    "{% endif %}\n",
    "    This is where you will put the content of this page.\n",
    "</div>\n",
    "</body>\n",
    "```\n",
    "* then add some CSS styling into a style tag within the head tag, so that your new head tag looks like this:\n",
    "```HTML\n",
    "<head>\n",
    "    <title>Home</title>\n",
    "    <meta name=\"description\" content=\"My home page, on which I showcase my work!\">\n",
    "    <meta name=\"keywords\" content=\"personal home page\">\n",
    "<style>\n",
    ".myDiv {\n",
    "  border: solid darkblue 5px;\n",
    "  padding-bottom: 20px;\n",
    "  background-color: lightblue;\n",
    "  text-align: center;\n",
    "  font-family: Sans-serif;\n",
    "}\n",
    "</style>\n",
    "</head>\n",
    "```\n",
    "* refresh your page and see how it has changed"
   ]
  },
  {
   "cell_type": "markdown",
   "metadata": {
    "collapsed": false,
    "jupyter": {
     "outputs_hidden": false
    },
    "pycharm": {
     "name": "#%% md\n"
    }
   },
   "source": [
    "## Exercises <a class=\"anchor\" id=\"exercises\"></a>"
   ]
  },
  {
   "cell_type": "markdown",
   "metadata": {
    "collapsed": false,
    "jp-MarkdownHeadingCollapsed": true,
    "jupyter": {
     "outputs_hidden": false
    }
   },
   "source": [
    "### Exercise 1\n",
    "\n",
    "Go through the steps above to create your first flask app."
   ]
  },
  {
   "cell_type": "markdown",
   "metadata": {
    "collapsed": false,
    "jupyter": {
     "outputs_hidden": false
    },
    "pycharm": {
     "name": "#%% md\n"
    }
   },
   "source": [
    "### Exercise 2\n",
    "\n",
    "Try going to `http://localhost:5000/hello` in your browser after having completed step 6. How could you need to update the `hello` function so that it does not raise a page not found error?"
   ]
  },
  {
   "cell_type": "markdown",
   "metadata": {},
   "source": [
    "### Solution 2"
   ]
  },
  {
   "cell_type": "markdown",
   "metadata": {
    "collapsed": false,
    "jupyter": {
     "outputs_hidden": false
    },
    "pycharm": {
     "name": "#%% md\n"
    }
   },
   "source": [
    "The easiest (but not very scalable) way to do this is within your `.py` file:\n",
    "\n",
    "```python\n",
    "@app.route(\"/hello\")\n",
    "@app.route(\"/hello/<city>\")\n",
    "def hello(city=None):\n",
    "    if city is None:\n",
    "        return \"<h1>Hello, there!</h1>\"\n",
    "    else:\n",
    "        return f\"<h1>Hello, {city}!</h1>\"\n",
    "```\n",
    "\n",
    "**Alternatively** (and this would be the more elegant and scalable way to do this) is to deal with the case of the city variable not being specified (aka being `None`) in a template. In this case, your `hello` function would look like this:\n",
    "\n",
    "```python\n",
    "@app.route(\"/hello\")\n",
    "@app.route(\"/hello/<city>\")\n",
    "def hello(city=None):\n",
    "    return render_template('hello.html', city=city)\n",
    "```\n",
    "\n",
    "You then also need to create a `hello.html` template within the `templates` folder, into which you write:\n",
    "\n",
    "```html\n",
    "<!doctype html>\n",
    "<html>\n",
    "<head>\n",
    "    <title>Hello</title>\n",
    "    <meta name=\"description\" content=\"The page where you say hello.\">\n",
    "    <meta name=\"keywords\" content=\"some keywords\">\n",
    "</head>\n",
    "<body>\n",
    "{% if city %}\n",
    "    <h1>Hello, {{ city }}!</h1>\n",
    "{% else %}\n",
    "    <h1>Hello, there!</h1>\n",
    "{% endif %}\n",
    "</body>\n",
    "</html>\n",
    "```"
   ]
  },
  {
   "cell_type": "markdown",
   "metadata": {
    "collapsed": false,
    "jupyter": {
     "outputs_hidden": false
    }
   },
   "source": [
    "### Exercise 3\n",
    "\n",
    "Add an 'about' page to your app, which shows the text 'About Page' in an h1 tag, by adding a suitable function to the `flaskapp.py` script (firstly, without using templates)."
   ]
  },
  {
   "cell_type": "markdown",
   "metadata": {},
   "source": [
    "### Solution 3"
   ]
  },
  {
   "cell_type": "markdown",
   "metadata": {
    "collapsed": false,
    "jupyter": {
     "outputs_hidden": false
    },
    "pycharm": {
     "name": "#%% md\n"
    }
   },
   "source": [
    "```python\n",
    "@app.route(\"/about\")\n",
    "def about():\n",
    "    return \"<h1>About Page</h1>\"\n",
    "```"
   ]
  },
  {
   "cell_type": "markdown",
   "metadata": {
    "collapsed": false,
    "jupyter": {
     "outputs_hidden": false
    },
    "pycharm": {
     "name": "#%% md\n"
    }
   },
   "source": [
    "### Exercise 4\n",
    "\n",
    "Create a new template specifically for this new 'about' page by copying and pasting the HTML code from step 7 above and changing the parts that refer to it being the 'home' page, then update `flaskapp.py` accordingly."
   ]
  },
  {
   "cell_type": "markdown",
   "metadata": {},
   "source": [
    "### Solution 4"
   ]
  },
  {
   "cell_type": "markdown",
   "metadata": {
    "collapsed": false,
    "jupyter": {
     "outputs_hidden": false
    },
    "pycharm": {
     "name": "#%% md\n"
    }
   },
   "source": [
    "You should have created an `about.html` inside `templates` that looks something like this:\n",
    "\n",
    "```html\n",
    "<!doctype html>\n",
    "<html>\n",
    "<head>\n",
    "    <title>About</title>\n",
    "    <meta name=\"description\" content=\"My about page, where I introduce myself!\">\n",
    "    <meta name=\"keywords\" content=\"about page\">\n",
    "</head>\n",
    "<body>\n",
    "    <h1>About Page</h1>\n",
    "    This is where you will put the content of this page.\n",
    "</body>\n",
    "</html>\n",
    "```\n",
    "\n",
    "and you should have updated the `about` function on `flaskapp.py` to look like this:\n",
    "\n",
    "```python\n",
    "@app.route(\"/about\")\n",
    "def about():\n",
    "    return render_template('about.html')\n",
    "```"
   ]
  },
  {
   "cell_type": "markdown",
   "metadata": {
    "jp-MarkdownHeadingCollapsed": true
   },
   "source": [
    "### Exercise 5\n",
    "\n",
    "Create a navigation bar for your app, so that users can navigate between different pages of your app. Do this by creating a 'layout.html' file, from which the other templates in our app will 'inherit' (aka we want it to be used on all of our pages).\n",
    "\n",
    "Hint: Start with the very generic HTML template for your 'layout.html' file, then think about the components that you need in here:\n",
    "\n",
    "* you need clickable text (aka hyperlinks), that will take the user to the page they want to go to. To do this, look up how to do hyperlinks in Flask (it entails a function called `url_for`).\n",
    "* you might need a div tag around your content so that you can, at some point, style your navigation bar.\n",
    "* have a look at the concept of [Template Inheritance](https://flask.palletsprojects.com/en/2.3.x/patterns/templateinheritance/), to see if you can work out how to connect your layout template with the other templates in your app\n",
    "* once you have tried this yourself, look at this [example](https://pythonhow.com/python-tutorial/flask/Adding-a-navigation-menu-to-the-website/) and implement it for your app"
   ]
  },
  {
   "cell_type": "markdown",
   "metadata": {},
   "source": [
    "### Solution 5"
   ]
  },
  {
   "cell_type": "markdown",
   "metadata": {},
   "source": [
    "The code in your `layout.html` file might look something like this\n",
    "\n",
    "```HTML\n",
    "<!DOCTYPE html>\n",
    "<html>\n",
    "  <body>\n",
    "    <header>\n",
    "      <div id=\"container\">\n",
    "        <h1 class=\"logo\">My web app</h1>\n",
    "        <strong><nav>\n",
    "          <ul class=\"menu\">\n",
    "            <li><a href=\"{{ url_for('home') }}\">Home</a></li>\n",
    "            <li><a href=\"{{ url_for('about') }}\">About</a></li>\n",
    "          </ul>\n",
    "        </nav></strong>\n",
    "      </div>\n",
    "    </header>\n",
    "      <div class=\"container\">\n",
    "      {% block content %}\n",
    "      {% endblock %}\n",
    "    </div>\n",
    "  </body>\n",
    "</html>\n",
    "```\n",
    "\n",
    "and the code in your `about.html` file might look something like this:\n",
    "```HTML\n",
    "<!doctype html>\n",
    "<html>\n",
    "<head>\n",
    "    <title>About</title>\n",
    "    <meta name=\"description\" content=\"My home page, where I'll introduce myself!\">\n",
    "    <meta name=\"keywords\" content=\"personal home page\">\n",
    "</head>\n",
    "<body>\n",
    "\n",
    "{% extends \"layout.html\" %}\n",
    "{% block content %}\n",
    "    <h1>About Page</h1>\n",
    "    <p>This is where I'll write something about myself.</p>\n",
    "{% endblock %}\n",
    "\n",
    "</body>\n",
    "</html>\n",
    "```"
   ]
  }
 ],
 "metadata": {
  "kernelspec": {
   "display_name": "Python 3 (ipykernel)",
   "language": "python",
   "name": "python3"
  },
  "language_info": {
   "codemirror_mode": {
    "name": "ipython",
    "version": 3
   },
   "file_extension": ".py",
   "mimetype": "text/x-python",
   "name": "python",
   "nbconvert_exporter": "python",
   "pygments_lexer": "ipython3",
   "version": "3.11.7"
  }
 },
 "nbformat": 4,
 "nbformat_minor": 4
}
