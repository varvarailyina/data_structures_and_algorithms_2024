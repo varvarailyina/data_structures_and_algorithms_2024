{
 "cells": [
  {
   "cell_type": "markdown",
   "id": "8b3786fa",
   "metadata": {},
   "source": [
    "# Lab 4\n",
    "## Data Structures & Algorithms\n",
    "### Thursday, 29 February 2024"
   ]
  },
  {
   "cell_type": "markdown",
   "id": "02e0530d",
   "metadata": {},
   "source": [
    "## Today's Topics\n",
    "\n",
    "* Refresher on Programming Paradigms\n",
    "* Classes in Python\n",
    "* Python modules and packages\n",
    "* Testing crash course"
   ]
  },
  {
   "cell_type": "markdown",
   "id": "e106b5a9",
   "metadata": {},
   "source": [
    "## Programming Paradigms\n",
    "\n",
    "### Declarative Programming\n",
    "- **Definition**: focuses on describing what should be accomplished without specifying how it should be done.\n",
    "- **Characteristics**:\n",
    "  - Programs consist of declarations rather than statements.\n",
    "  - Emphasises on expressing the logic of a computation without describing its control flow.\n",
    "- **Examples**: SQL, HTML\n",
    "\n",
    "### Imperative Programming\n",
    "- **Definition**: involves providing explicit instructions to the computer on how to perform a task.\n",
    "- **Characteristics**:\n",
    "  - Programs are composed of statements that change a program's state.\n",
    "  - Emphasises on describing step-by-step procedures.\n",
    "- **Examples**: C, Python, Java\n",
    "\n",
    "### Functional Programming\n",
    "- **Definition**: treats computation as the evaluation of mathematical functions and avoids changing state and mutable data.\n",
    "- **Characteristics**:\n",
    "  - Functions are combined with each other: can be passed as arguments or returned from other functions.\n",
    "  - Avoids side effects and mutable state.\n",
    "- **Examples**: Haskell, Lisp\n",
    "\n",
    "### Object-Oriented Programming (OOP)\n",
    "- **Definition**: organises software design around objects and data rather than actions and logic.\n",
    "- **Characteristics**:\n",
    "  - Encapsulation: Objects encapsulate data and behavior.\n",
    "  - Inheritance: Classes can inherit attributes and behavior from other classes.\n",
    "  - Polymorphism: Objects of different classes can be treated as objects of a common superclass.\n",
    "- **Examples**: Python, Java, C++"
   ]
  },
  {
   "cell_type": "markdown",
   "id": "4855ed76",
   "metadata": {},
   "source": [
    "## Classes in Python\n",
    "\n",
    "As you can see in the examples above, Python supports various programming styles, including OOP (through classes and objects)!\n",
    "\n",
    "A Python class is a 'blueprint' for creating objects that have certain attributes and behaviours. An object is an instance of a class. Classes define attributes (data) and methods (functions) that operate on those attributes. See [here](https://www.w3schools.com/python/python_classes.asp) for a brief introduction on classes.\n",
    "\n",
    "### Key Concepts:\n",
    "\n",
    "* **Class**: A blueprint for creating objects. It defines attributes and methods common to all objects of the class.\n",
    "* **Object**: An instance of a class. Objects have attributes and methods inherited from the class.\n",
    "* **__init__()**: A special method called the constructor or initializer. It is automatically called when a new instance of the class is created. It initializes the object's attributes.\n",
    "* **Class Attributes**: Variables that are shared by all instances of the class. They are defined outside any method in the class.\n",
    "* **Instance Attributes**: Variables that are unique to each instance of the class. They are defined within the __init__() method.\n",
    "* **Methods**: Functions defined within a class. They operate on the object's attributes and represent the object's behavior.\n",
    "* **self**: A reference to the current instance of the class. It is used to access instance variables and methods within the class."
   ]
  },
  {
   "cell_type": "markdown",
   "id": "2c2fb941",
   "metadata": {},
   "source": [
    "### Example: Creating a Class"
   ]
  },
  {
   "cell_type": "code",
   "execution_count": null,
   "id": "c38f395b",
   "metadata": {},
   "outputs": [],
   "source": [
    "# Define a simple class representing a Bike\n",
    "class Bike:\n",
    "    bike_type = 'Mountain' # Class attribute\n",
    "    def __init__(self, brand, model, year):\n",
    "        self.brand = brand\n",
    "        self.model = model # Instance attribute\n",
    "        self.year = year\n",
    "        self.odometer_reading = 0 # Default attribute\n",
    "        \n",
    "    def get_descriptive_name(self):\n",
    "        return f'{self.year} {self.brand} {self.model}'\n",
    "    \n",
    "    def read_odometer(self):\n",
    "        return f'This bike has {self.odometer_reading} kilometers on it.'\n",
    "    \n",
    "    def update_odometer(self, mileage):\n",
    "        if mileage >= self.odometer_reading:\n",
    "            self.odometer_reading = mileage\n",
    "        else:\n",
    "            print('You cannot roll back an odometer!')"
   ]
  },
  {
   "cell_type": "markdown",
   "id": "c213c27f",
   "metadata": {},
   "source": [
    "### Example: Creating an Object"
   ]
  },
  {
   "cell_type": "code",
   "execution_count": null,
   "id": "f11d026a",
   "metadata": {},
   "outputs": [],
   "source": [
    "# Create an instance of the Bike class\n",
    "my_bike = Bike(brand='Specialized', model='Tarmac', year=2023)"
   ]
  },
  {
   "cell_type": "code",
   "execution_count": null,
   "id": "82cdaed0",
   "metadata": {},
   "outputs": [],
   "source": [
    "# Access attributes and call methods\n",
    "print(my_bike.get_descriptive_name())"
   ]
  },
  {
   "cell_type": "code",
   "execution_count": null,
   "id": "1575c0f7",
   "metadata": {},
   "outputs": [],
   "source": [
    "# Check odometer is at 0\n",
    "print(my_bike.read_odometer())"
   ]
  },
  {
   "cell_type": "code",
   "execution_count": null,
   "id": "305da2ec",
   "metadata": {},
   "outputs": [],
   "source": [
    "# Update attribute value\n",
    "my_bike.update_odometer(50)"
   ]
  },
  {
   "cell_type": "code",
   "execution_count": null,
   "id": "50810c1c",
   "metadata": {},
   "outputs": [],
   "source": [
    "print(my_bike.read_odometer())"
   ]
  },
  {
   "cell_type": "code",
   "execution_count": null,
   "id": "731dddea-caec-445e-8952-0df537837102",
   "metadata": {},
   "outputs": [],
   "source": [
    "my_bike.update_odometer(80)"
   ]
  },
  {
   "cell_type": "code",
   "execution_count": null,
   "id": "d4c6b795-550e-49ea-af94-68d7794a6259",
   "metadata": {},
   "outputs": [],
   "source": [
    "print(my_bike.read_odometer())"
   ]
  },
  {
   "cell_type": "markdown",
   "id": "4073570b-2888-49e1-a18d-3c2351feb805",
   "metadata": {},
   "source": [
    "### Example: Extend a class\n",
    "\n",
    "To make a class inherit from another class, you need to include the `super().__init__` command in the constructor; the `super()` function makes the 'child' class inherit all the methods and properties from the parent class. See [here](https://www.w3schools.com/python/python_inheritance.asp) for an introduction on inheritance."
   ]
  },
  {
   "cell_type": "code",
   "execution_count": null,
   "id": "01ffdbff-d1b9-43be-8356-189781028a31",
   "metadata": {},
   "outputs": [],
   "source": [
    "# Create a subclass ElectricBike that inherits from Bike\n",
    "class ElectricBike(Bike):\n",
    "    def __init__(self, brand, model, year, weight):\n",
    "        super().__init__(brand, model, year)\n",
    "        self.weight = weight\n",
    "        \n",
    "    def return_weight(self):\n",
    "        return f'This bike weighs {self.weight} kilograms and was built in year {self.year}'"
   ]
  },
  {
   "cell_type": "code",
   "execution_count": null,
   "id": "232e12af-6f11-4ff4-a78e-e22d86e3abc5",
   "metadata": {},
   "outputs": [],
   "source": [
    "my_ebike = ElectricBike('Cube', 'speedy', 2024, 25)"
   ]
  },
  {
   "cell_type": "code",
   "execution_count": null,
   "id": "6d6afcbf-0b51-46e3-bdd2-b16a5b507b25",
   "metadata": {},
   "outputs": [],
   "source": [
    "print(my_ebike.return_weight())"
   ]
  },
  {
   "cell_type": "markdown",
   "id": "490f43c5-4e4e-448e-ae3e-97b09232ca61",
   "metadata": {
    "jp-MarkdownHeadingCollapsed": true
   },
   "source": [
    "## Modules and packages in Python\n",
    "\n",
    "Last week, I gave a very brief refresher on Python modules (files ending in `.py`) and Jupyter notebooks (files ending in `.ipynb`). Let's have another look at modules and packages (this [introduction](https://realpython.com/python-modules-packages/) on modules and packages is a great resource):\n",
    "\n",
    "\n",
    "### Modules\n",
    "\n",
    "* any code you write in a Python module can be accessed in other places by `import` statement. E.g. if you have created two files called `mod1.py` and `mod2.py` in your project, and you want to call a function called `foo()` from `mod1.py` in `mod2.py`, you do this by writing one of the following at the top of `mod2.py`:\n",
    "\n",
    "```python\n",
    "import mod1\n",
    "\n",
    "mod1.foo('something')\n",
    "```\n",
    "or\n",
    "\n",
    "```python\n",
    "import mod1 as m\n",
    "\n",
    "m.foo('something')\n",
    "```\n",
    "\n",
    "or \n",
    "\n",
    "```python\n",
    "from mod1 import foo\n",
    "\n",
    "foo('something')\n",
    "```\n",
    "\n",
    "or \n",
    "\n",
    "```python\n",
    "# not recommended\n",
    "from mod1 import * \n",
    "\n",
    "foo('something')\n",
    "```\n",
    "\n",
    "* any Python module can also be run as a Python script (e.g. by running `python mod1.py` in the command line). So that Python knows what to do when a `.py` file is being run as a module or a script, we can add the `if (__name__ == '__main__'):` clause at the end of the file -- everything that should only be run when the `.py` is being treated as a script goes underneath the `if` clause. E.g.:\n",
    "\n",
    "```python\n",
    "def foo(x):\n",
    "    return f'{x} is fishy'\n",
    "\n",
    "if __name__ == '__main__':\n",
    "    print(foo('something REALLY'))\n",
    "```\n",
    "\n",
    "(your Python interpreter sets the `__name__` variable of a module to `\"__main__\"` when the code is running in the 'top-level code environment', which is what happens when you run the file as a script)\n",
    "\n",
    "### Packages\n",
    "\n",
    "* packages are useful when you have developed a larger collection of modules, both for yourself or to share it with others\n",
    "* to create a package, you a specific hierarchical folder structure, namely the package directory (that contains the `.py` files for the package) must sit within the project directory (e.g. `package_name/package_name/codefile1.py`, `package_name/package_name/codefile2.py` etc)\n",
    "* apart from that, the package folder (the lower one in the folder hierarchy) must contain a package initialisation file called `__init__.py` (this can be empty but it needs to be there for the folder to be treated as a package).\n",
    "* other things that may eventually sit inside the root directory of the package (the higher one in the hierarchy) are a tests (or a `tests` folder), documentation, and the `setup.py` file (which contains information on how the package should be built and installed).\n",
    "* if you'd like to create a package in a way that allows you to share it (and for someone else to install it), [this](https://www.freecodecamp.org/news/how-to-create-and-upload-your-first-python-package-to-pypi/) is a great first place to learn."
   ]
  },
  {
   "cell_type": "markdown",
   "id": "11f1abb2",
   "metadata": {},
   "source": [
    "## Testing crash course\n",
    "\n",
    "**Testing** is an essential part of software development, ensuring that the code behaves as expected and continues to do so after changes are made. \n",
    "\n",
    "**Test-driven development (TDD)** is a software development process that relies on the repetition of a very short development cycle: \n",
    "* write an (initially failing) automated test case that defines a desired improvement or new function (this makes you think about the requirement of the code before you actually write it)\n",
    "* produce the minimum amount of code to pass that test\n",
    "* refactor the code as necessary\n",
    "\n",
    "**Unit tests** are small tests that check if a single part of your code is working, it helps you to isolate what in your code so you can fix it more quickly. \n",
    "\n",
    "**Test Runners** are packages designed to help you run your tests. The most popular one in Python are `PyTest` and `unittest`. Here we will focus on `PyTest`. This [tutorial](https://realpython.com/python-testing/) is a great resource for learning about testing."
   ]
  },
  {
   "cell_type": "markdown",
   "id": "e6adacec",
   "metadata": {},
   "source": [
    "### Example: The `assert` statement\n",
    "\n",
    "The assert statement is used to verify that something is true during the execution of a program. \n",
    "\n",
    "**Use Case:** The assert statement is primarily used for debugging and testing purposes to check conditions that should always be true during the program's execution.\n",
    "\n",
    "**Difference from try and except:** Unlike using try and except clauses, which handle exceptions and errors during runtime, assert statements are used to spot bugs and logic errors during development and testing.\n",
    "\n",
    "**Syntax:** The syntax of the assert statement is `assert condition, message`. If the condition evaluates to `False`, an AssertionError is raised, optionally displaying the specified message."
   ]
  },
  {
   "cell_type": "code",
   "execution_count": null,
   "id": "cb5a4324",
   "metadata": {},
   "outputs": [],
   "source": [
    "# Example 1: Basic assertion\n",
    "x = 5\n",
    "assert x == 5"
   ]
  },
  {
   "cell_type": "code",
   "execution_count": null,
   "id": "720d4a98",
   "metadata": {},
   "outputs": [],
   "source": [
    "# Example 2: Assertion with a message\n",
    "y = 10\n",
    "assert y == 5, \"y should be equal to 5\""
   ]
  },
  {
   "cell_type": "code",
   "execution_count": null,
   "id": "cdc65124",
   "metadata": {},
   "outputs": [],
   "source": [
    "# Example 3: Testing a function\n",
    "def add(a,b):\n",
    "    return a+b\n",
    "\n",
    "assert 10 == add(6,4), '10 should be equal to 6+4'"
   ]
  },
  {
   "cell_type": "markdown",
   "id": "9b76f453",
   "metadata": {},
   "source": [
    "### Example: Testing in Python with pytest"
   ]
  },
  {
   "cell_type": "code",
   "execution_count": null,
   "id": "d7af521a",
   "metadata": {},
   "outputs": [],
   "source": [
    "# Example of a simple test case using pytest\n",
    "\n",
    "# Function to be tested\n",
    "def add(a, b):\n",
    "    return a + b\n",
    "\n",
    "# Test case\n",
    "def test_add():\n",
    "    assert add(2, 3) == 5, '2+3 should equal 5' # Test with positive numbers\n",
    "    assert add(-1, 1) == 0  # Test with positive and negative numbers\n",
    "    assert add(-1, -1) == -2  # Test with negative numbers\n",
    "    assert add(0, 0) == 0  # Test with zeroes\n",
    "    assert add(2.5, 1.5) == 4.0  # Test with floating point numbers\n",
    "    assert add('Hello', 'World') == 'HelloWorld'  # Test with strings"
   ]
  },
  {
   "cell_type": "code",
   "execution_count": null,
   "id": "8e392009-0592-42ba-a901-22264a2da7fd",
   "metadata": {},
   "outputs": [],
   "source": [
    "test_add()"
   ]
  },
  {
   "cell_type": "markdown",
   "id": "073da83f",
   "metadata": {},
   "source": [
    "## Exercises"
   ]
  },
  {
   "cell_type": "markdown",
   "id": "e0866de8",
   "metadata": {},
   "source": [
    "### Exercise 1: Classes and Objects\n",
    "Write a Python class `Square` that represents a square. The class should have attributes `side_length` representing the length of a side of the square, and methods `area()` and `perimeter()` to calculate the area and perimeter of the square, respectively."
   ]
  },
  {
   "cell_type": "code",
   "execution_count": null,
   "id": "ca032f7c",
   "metadata": {},
   "outputs": [],
   "source": [
    "class Square:\n",
    "    def __init__(self, side_length):\n",
    "        # Implement me\n",
    "    \n",
    "    def area(self):\n",
    "        # Implement me\n",
    "    \n",
    "    def perimeter(self):\n",
    "        # Implement me"
   ]
  },
  {
   "cell_type": "markdown",
   "id": "85bd65bc",
   "metadata": {},
   "source": [
    "### Exercise 2: Class Attributes and Methods\n",
    "Extend the `Bike` class with a method `ride()` (that takes as an input a `kilometers` variable) that updates the `odometer_reading` attribute by adding the given number of kilometers. Also, add a method `check_bike_type()` that prints the bike type."
   ]
  },
  {
   "cell_type": "code",
   "execution_count": null,
   "id": "606f1cbd",
   "metadata": {},
   "outputs": [],
   "source": [
    "class Bike:\n",
    "    bike_type = 'Mountain'  # Class attribute\n",
    "    \n",
    "    def __init__(self, brand, model, year):\n",
    "        self.brand = brand\n",
    "        self.model = model\n",
    "        self.year = year\n",
    "        self.odometer_reading = 0\n",
    "        \n",
    "    def get_descriptive_name(self):\n",
    "        return f'{self.year} {self.brand} {self.model}'\n",
    "    \n",
    "    def read_odometer(self):\n",
    "        return f'This bike has {self.odometer_reading} kilometers on it.'\n",
    "    \n",
    "    def update_odometer(self, mileage):\n",
    "        if mileage >= self.odometer_reading:\n",
    "            self.odometer_reading = mileage\n",
    "        else:\n",
    "            print('You cannot roll back an odometer!')\n",
    "    \n",
    "    def ride(self, kilometers):\n",
    "        # Implement me\n",
    "    \n",
    "    def check_bike_type(self):\n",
    "        # Implement me"
   ]
  },
  {
   "cell_type": "markdown",
   "id": "086658a4",
   "metadata": {},
   "source": [
    "### Exercise 3: Instance Attributes\n",
    "Add an instance attribute `colour` to the `Bike` class. Write a method `paint()` that updates the `colour` attribute of the bike to the specified colour."
   ]
  },
  {
   "cell_type": "code",
   "execution_count": null,
   "id": "23a001fd",
   "metadata": {},
   "outputs": [],
   "source": [
    "# Add instance attributes to the Bike class\n",
    "class Bike:\n",
    "    bike_type = 'Mountain'\n",
    "\n",
    "    def __init__(self, brand, model, year, colour='Black'):\n",
    "        self.brand = brand\n",
    "        self.model = model\n",
    "        self.year = year\n",
    "        self.colour = colour  # Instance attribute\n",
    "        self.odometer_reading = 0\n",
    "\n",
    "    def get_descriptive_name(self):\n",
    "        return f'{self.year} {self.brand} {self.model} ({self.colour})'\n",
    "\n",
    "    def read_odometer(self):\n",
    "        return f'This bike has {self.odometer_reading} kilometers on it.'\n",
    "\n",
    "    def update_odometer(self, mileage):\n",
    "        if mileage >= self.odometer_reading:\n",
    "            self.odometer_reading = mileage\n",
    "        else:\n",
    "            print('You cannot roll back an odometer!')\n",
    "\n",
    "    def ride(self, kilometers):\n",
    "        # Implement me\n",
    "\n",
    "    def check_bike_type(self):\n",
    "        return f'This bike is a {self.bike_type} bike.'\n",
    "\n",
    "    def paint(self, colour):\n",
    "        # Implement me"
   ]
  },
  {
   "cell_type": "markdown",
   "id": "641a8733",
   "metadata": {},
   "source": [
    "### Exercise 4: Class Inheritance\n",
    "Create a `ElectricBike` that inherits from the `Bike` class. Add an attribute `battery_size` and a method `describe_battery()` that returns a string that contains information about the battery size."
   ]
  },
  {
   "cell_type": "code",
   "execution_count": null,
   "id": "06503706",
   "metadata": {},
   "outputs": [],
   "source": [
    "class ElectricBike(Bike):\n",
    "    def __init__(self, brand, model, year, battery_size):\n",
    "        super().__init__(brand, model, year)\n",
    "        # Implement me\n",
    "        \n",
    "    def describe_battery(self):\n",
    "        # Implement me"
   ]
  },
  {
   "cell_type": "markdown",
   "id": "28eba3b5",
   "metadata": {},
   "source": [
    "### Exercise 5: Method Overriding\n",
    "Override the `get_descriptive_name()` method in the `ElectricBike` class to include information about the battery size. \n",
    "\n",
    "EXTENSION: Also add a method `charge_battery()` and another one `show_current_battery_level()`."
   ]
  },
  {
   "cell_type": "code",
   "execution_count": null,
   "id": "67a191cf",
   "metadata": {},
   "outputs": [],
   "source": [
    "# Create a subclass ElectricBike that inherits from Bike\n",
    "class ElectricBike(Bike):\n",
    "    def __init__(self, brand, model, year, battery_size):\n",
    "        super().__init__(brand, model, year)\n",
    "        # Implement me\n",
    "\n",
    "    def describe_battery(self):\n",
    "        # Implement me\n",
    "\n",
    "    def get_descriptive_name(self):\n",
    "        # Implement me\n",
    "\n",
    "    def charge_battery(self, percentage):\n",
    "        # Implement me\n",
    "\n",
    "    def show_current_battery_level(self):\n",
    "        # Implement me"
   ]
  },
  {
   "cell_type": "markdown",
   "id": "46b9d4e0-3a54-4bcf-885a-9f39ce8f1bc9",
   "metadata": {},
   "source": [
    "### Exercise 6: Test Bike class\n",
    "\n",
    "Write a separate test function for each of the methods that you have created for your Bike class. In practice, this that for each of the following functions, you need to \n",
    "\n",
    "* create an instanc of the class you're testing, initialising it with some values\n",
    "* potentially calling one of the class' methods\n",
    "* ending with an `assert` statement.\n",
    "\n",
    "Use the first one as an example and create the other ones in a similar way. "
   ]
  },
  {
   "cell_type": "code",
   "execution_count": null,
   "id": "43d6d720-9052-4403-ace5-2d92734be7dd",
   "metadata": {},
   "outputs": [],
   "source": [
    "def test_bike_get_descriptive_name():\n",
    "    bike = Bike('Brand', 'Model', 2022, 'Red')\n",
    "\n",
    "    assert bike.get_descriptive_name() == '2022 Brand Model (Red)'\n",
    "\n",
    "\n",
    "def test_bike_read_odometer():\n",
    "    # Implement me\n",
    "\n",
    "\n",
    "def test_bike_update_odometer():\n",
    "    # Implement me\n",
    "\n",
    "\n",
    "def test_bike_ride():\n",
    "    # Implement me\n",
    "\n",
    "\n",
    "def test_bike_check_bike_type():\n",
    "    # Implement me\n",
    "\n",
    "\n",
    "def test_electric_bike_get_descriptive_name():\n",
    "    # Implement me\n",
    "\n",
    "\n",
    "def test_electric_bike_describe_battery():\n",
    "    # Implement me\n",
    "\n",
    "\n",
    "def test_charge_battery_valid_percentage():\n",
    "    # Implement me\n",
    "\n",
    "\n",
    "def test_charge_battery_invalid_percentage():\n",
    "    # Implement me\n",
    "\n",
    "\n",
    "def test_show_current_battery_level():\n",
    "    # Implement me"
   ]
  },
  {
   "cell_type": "markdown",
   "id": "82ba7bd1-7ec2-45ab-98ff-a4919e9b6079",
   "metadata": {},
   "source": [
    "### Exercise 7: Integrate your testing environment\n",
    "\n",
    "Now take the following step to create your testing environment for this example:\n",
    "\n",
    "* in the command line: create a new directory for this project (e.g. calling it `bike_package`)\n",
    "* in the command line: activate the environment you've been using for labs (or create a new one and activate that)\n",
    "* in the command line: install the pytest package by running `pip install pytest`\n",
    "* open the project in your IDE and select the python installation in your virtual environment as the interpreter\n",
    "* inside this `bike_package` directory, create two sub-directories: one called `bike_package` (this is a naming convention for python packages) and one called `tests`\n",
    "* inside the `/bike_package/bike_package` directory, create two empty Python modules: `__init__.py` and `bikes.py`\n",
    "* copy the two classes you created as part of the exercises into `bikes.py` (`__init__.py` can stay empty).\n",
    "* inside the `/bike_package/tests` directory, create two empty Python modules: `__init__.py` and `test_bikes.py`\n",
    "* copy your tests into `test_bikes.py` - what else do you need to add in this file?\n",
    "* go to your command line and run `pytest tests/` - you should now see if your tests are passing or failing?\n",
    "* find out how to set up testing within your IDE (which can be a nice alternative from running `pytest tests/` from the command line."
   ]
  }
 ],
 "metadata": {
  "kernelspec": {
   "display_name": "Python 3 (ipykernel)",
   "language": "python",
   "name": "python3"
  },
  "language_info": {
   "codemirror_mode": {
    "name": "ipython",
    "version": 3
   },
   "file_extension": ".py",
   "mimetype": "text/x-python",
   "name": "python",
   "nbconvert_exporter": "python",
   "pygments_lexer": "ipython3",
   "version": "3.11.7"
  }
 },
 "nbformat": 4,
 "nbformat_minor": 5
}
