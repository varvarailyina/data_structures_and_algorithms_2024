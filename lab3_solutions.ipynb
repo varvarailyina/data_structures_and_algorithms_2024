{
 "cells": [
  {
   "cell_type": "markdown",
   "metadata": {
    "collapsed": true,
    "jupyter": {
     "outputs_hidden": true
    },
    "pycharm": {
     "name": "#%% md\n"
    }
   },
   "source": [
    "# Lab 3\n",
    "## Data Structures & Algorithms\n",
    "### Thursday, 22 February 2024"
   ]
  },
  {
   "cell_type": "markdown",
   "metadata": {
    "collapsed": false,
    "jupyter": {
     "outputs_hidden": false
    },
    "pycharm": {
     "name": "#%% md\n"
    }
   },
   "source": [
    "## Today\n",
    "\n",
    "* [Coding workflows](#workflows)\n",
    "* [Dynamic web apps with flask](#dynamic)\n",
    "* [Another flask example](#example)\n",
    "* [Deploying your flask app](#deployment)\n",
    "* [Exercises](#exercises)"
   ]
  },
  {
   "cell_type": "markdown",
   "source": [
    "## Refresher on coding workflows <a class=\"anchor\" id=\"workflows\"></a>"
   ],
   "metadata": {
    "collapsed": false,
    "pycharm": {
     "name": "#%% md\n"
    }
   }
  },
  {
   "cell_type": "markdown",
   "source": [
    "### Virtual environments\n",
    "\n",
    "Virtual environments help you isolate the Python (or R) versions and packages that you need for a certain project from those you might need from a different one. When you create a new virtual environment using the `conda create -n env_name ...` command, miniconda automatically creates a new directory with the name you have chosen (in this case it would be `env_name`) inside miniconda's own directory structure. By default, this is in your `Users` folder or equivalent (e.g. for me the path to the new directory in this example would be `/Users/lenamangold/miniconda3/envs/env_name`).\n",
    "\n",
    "Once you have created a virtual environment, you can completely ignore this folder - it's where conda installs Python & packages; **do not** create your project directories **inside** this miniconda folder structure. Instead, keep project directories in your normal folder structure; to use the conda environment (e.g. to run a jupyter notebook or a flask app), run `conda activate env_name` on the command line after having navigated into the desired folder using `cd`.\n",
    "\n",
    "### Jupyter notebooks vs Python modules (and IDEs)\n",
    "Jupyter notebooks (files with the `.ipynb` extension) are best for code exploration and to display code alongside markdown. While it is possible with some IDEs (e.g. some versions of Pycharm) to run Jupyter notebooks *inside* the IDE, this sometimes doesn't work very well and I would recommend running them from the command line.\n",
    "\n",
    "Python modules (files with the `.py` extension) are where you write the functions and classes that will be reused later on (e.g. as part of a data science project or a web app, or even in a Jupyter notebook). IDEs like PyCharm can help you with things like testing, debugging, documenting, and refactoring of your functions and classes."
   ],
   "metadata": {
    "collapsed": false,
    "pycharm": {
     "name": "#%% md\n"
    }
   }
  },
  {
   "cell_type": "markdown",
   "source": [
    "## Dynamic web apps with flask <a class=\"anchor\" id=\"dynamic\"></a>\n",
    "\n",
    "Unlike static websites (which look the same to any user who visits them), dynamic websites can change their content based on the user and their input. With **any** website, it gets displayed to you after you enter a URL that triggers the browser to send a request to the web server where the website is hosted and which then sends back an HTML file (plus whatever else is necessary) to display the webpage.\n",
    "\n",
    "**Static websites** are built by creating fixed HTML (+ CSS, JS) files ('client-side' languages), which are returned by the hosting server and then displayed in the browser. They are useful for small websites (portfolios, personal websites), since they are not easy to scale or personalise. But they are relatively straightforward to build and they are faster than dynamic websites.\n",
    "\n",
    "**Dynamic websites** are built at the time they are requested from the server; the HTML files are created in a way that is 'personalised' (e.g. because of some user characteristics or user input). They are written in 'server-side' languages (e.g. PHP, Python) PLUS client-side languages. They are easier to update (you don't have to change every static HTML file), scalable, and can be personalised.\n",
    "\n"
   ],
   "metadata": {
    "collapsed": false,
    "pycharm": {
     "name": "#%% md\n"
    }
   }
  },
  {
   "cell_type": "markdown",
   "source": [
    "## Another flask example <a class=\"anchor\" id=\"example\"></a>\n",
    "\n",
    "Let's create a new flask app, this time with a slightly more advanced user input and some more functionality: a basic calculator.\n",
    "\n",
    "* create a new project, e.g. called `calculator_app`\n",
    "* in the command line, navigate into this new project directory by running `cd calculator_app` (if you are currently located in the parent directory, otherwise you have to `cd` to the entire directory path). Navigating into the `calculator_app` folder is necessary because this is where you will create your main app module `flask_app.py` (and your `templates` folder).\n",
    "* IMPORTANT: today, it should be called `flask_app.py` rather than anything else. We will see later why! Once you have created your app module, you will run the flask run command in the command line - this only works if you are located in the correct folder that contains the main module file.\n",
    "* in the command line, activate the flask app environment you created in the last lab (normally we create a new environment for each project, but this is just another very small example, so we can stick with this one), by running `conda activate ...` where you replace the dots with your environment name. To remind yourself of the virtual environments that you already have created, you can run `conda env list` and it will display a list of all created environments.\n",
    "* open the project in PyCharm and create a `flask_app.py` file in the root directory of the project (it should be saved inside the `calculator_app` folder)\n",
    "* now insert the following code into your `flask_app.py` file (you will need the `render_template` and `request` methods later, so make sure to include them in the import statement):\n",
    "\n",
    "```python\n",
    "from flask import Flask, render_template, request\n",
    "\n",
    "app = Flask(__name__)  # create the instance of the flask class\n",
    "\n",
    "\n",
    "@app.route('/')\n",
    "def home():\n",
    "    return 'Home page'\n",
    "```\n",
    "\n",
    "* let us change our home page to show the result of a calculation. Replace the `home` function by the following:\n",
    "\n",
    "```python\n",
    "@app.route('/')\n",
    "def home():\n",
    "    value1 = 3\n",
    "    value2 = 4\n",
    "    result = value1 + value2\n",
    "    return str(result)\n",
    "```\n",
    "\n",
    "* make your app dynamic, by letting the user pass variables to the URL:\n",
    "\n",
    "```python\n",
    "@app.route('/<value1>_<value2>')\n",
    "def home(value1, value2):\n",
    "    value1 = float(value1)\n",
    "    value2 = float(value2)\n",
    "    return value1 + value2\n",
    "```\n",
    "\n",
    "* next, let the user decide the operation that they want to use (for now, only allowing summation):\n",
    "\n",
    "```python\n",
    "@app.route('/<value1>_<operation>_<value2>')\n",
    "def home(value1, value2, operation):\n",
    "    value1 = float(value1)\n",
    "    value2 = float(value2)\n",
    "    if operation == 'addition':\n",
    "        return str(value1 + value2)\n",
    "    else:\n",
    "        return 'Operation must be \"addition\"'\n",
    "```\n",
    "\n",
    "* now add another dynamic element to the app: users should be able to enter their values into fields on the app and then press a button to make the calculation. For this we need to create something called a **form element**, the inputs of which Python will send back to the server to change your variables (through the `POST` action). First, we use a template instead of creating our HTML in the `flask_app.py` file. Create a `templates` folder inside your project root and create an `index.html` file within the `templates` folder. Copy the following code into the empty `index.html` file:\n",
    "\n",
    "```html\n",
    "<!DOCTYPE html>\n",
    "<html >\n",
    "<head>\n",
    "  <title>Flask Calculator</title>\n",
    "</head>\n",
    "\n",
    "<body>\n",
    "\t<h1>Calculator</h1>\n",
    "\n",
    "    <form action=\"{{ url_for('calculate')}}\" method=\"post\">\n",
    "        <input type=\"text\" name=\"value1\" placeholder=\"Enter the first number\" required=\"required\" />\n",
    "        <input type=\"text\" name=\"value2\" placeholder=\"Enter the second number\" required=\"required\" />\n",
    "        <input type=\"text\" name=\"operation\" placeholder=\"addition\" required=\"required\" />\n",
    "        <button type=\"submit\">Calculate</button>\n",
    "    </form>\n",
    "\n",
    "   <br>\n",
    "\n",
    "   {{ printed_result }}\n",
    "\n",
    "</body>\n",
    "</html>\n",
    "```\n",
    "\n",
    "* let us take a look at what this is doing. You are creating an HTML form element with the following parts:\n",
    "    * the `action` parameter is the URL that the form data is sent to once the user clicks the button with the type `submit`; in flask, the `url_for` function generates to URL to a particular view of your page (in this case the `/calculate` view)\n",
    "    * the `method` parameter means that the data that a user puts into this form will be sent to the server with the POST method (we will also need to specify this in our route)\n",
    "    * when a user presses the `submit` button of this form (which has the text 'Calculate' on it), the data that a user has put into the form gets sent to the server, which does some operations with it and then sends an HTML back to the web browser (in whatever you have defined in your code). In particular, the `name` tags in the different elements represent how this data gets sent to the server.\n",
    "* we now also need to change our `flask_app.py` file so that the server knows how to deal with this form data and execute the calculation. Copy the following code into your `flask_app.py` file, replacing the entire `home` function you wrote before.\n",
    "\n",
    "```python\n",
    "@app.route('/')\n",
    "def home():\n",
    "    return render_template('index.html')\n",
    "\n",
    "\n",
    "@app.route('/calculate', methods=['POST'])  # associating the POST method with this route\n",
    "def calculate():\n",
    "\n",
    "    # using the request method from flask to request the values that were sent to the server through the POST method\n",
    "    value1 = request.form['value1']\n",
    "    value2 = request.form['value2']\n",
    "    operation = str(request.form['operation'])\n",
    "\n",
    "    # convert the input to floating points\n",
    "    value1 = float(value1)\n",
    "    value2 = float(value2)\n",
    "\n",
    "    if operation == 'addition':\n",
    "        return render_template('index.html', printed_result=str(value1 + value2))\n",
    "    else:\n",
    "        return render_template('index.html', printed_result='Operation must be \"addition\"')\n",
    "```\n",
    "\n",
    "* here, we have used flask's `request` method, to retrieve the elements that we have defined in the HTML form (i.e. the text elements that we have given the `name` tag in the form)"
   ],
   "metadata": {
    "collapsed": false,
    "pycharm": {
     "name": "#%% md\n"
    }
   }
  },
  {
   "cell_type": "markdown",
   "source": [
    "## How to deploy your flask app? <a class=\"anchor\" id=\"deployment\"></a>\n",
    "\n",
    "* so far, our apps have only been running 'locally'\n",
    "* to publish them to the internet, you need to **deploy** your app to a hosting platform (so that it is no longer hosted on your local machine, but on a hosting platform where your code will be constantly running at some domain)\n",
    "* we will choose the hosting platform called [pythonanywhere](https://www.pythonanywhere.com/), since it has a completely free option; there are many options for deployment, but most of them are not free (or have a free version, but require a credit card to sign up)\n",
    "\n",
    "### Create your web app on pythonanywhere\n",
    "\n",
    "* create a free PythonAnywhere account and log in\n",
    "* go to the Web menu item and press Add new web app\n",
    "* click next, then click on the Flask option and finally, choose the latest version of Python in the list\n",
    "* you will now see the pythonanywhere project path - just accept the default one by clicking Next again\n",
    "* in your browser, visit https://yourusername.pythonanywhere.com (replacing `yourusername` with your actual pythonanywhere username)\n",
    "\n",
    "### Upload your project\n",
    "\n",
    "* go to Web menu and scroll down to the Code section - click on Go to directory next to where it says Source code (this is where we will upload our files, so that they can be hosted on pythonanywhere)\n",
    "* this takes you to the Files section of pythonanywhere; delete the `flask_app.py` file that is there by default\n",
    "* use the Upload a file button and upload your own `flask_app.py` file (it is important that it has this exact name, since pythonanywhere will be looking for a file with this name)\n",
    "* on the left, under Directories, enter the name `templates` into the box and press New directory\n",
    "* Upload the `index.html` file into this directory\n",
    "* go back to the Web menu and click `Reload https://yourusername.pythonanywhere.com`"
   ],
   "metadata": {
    "collapsed": false,
    "pycharm": {
     "name": "#%% md\n"
    }
   }
  },
  {
   "cell_type": "markdown",
   "source": [
    "## Exercises <a class=\"anchor\" id=\"exercises\"></a>"
   ],
   "metadata": {
    "collapsed": false,
    "pycharm": {
     "name": "#%% md\n"
    }
   }
  },
  {
   "cell_type": "markdown",
   "source": [
    "### Exercise 1\n",
    "\n",
    "Go through the steps in the [Another flask example](#example) section to create your first basic calculator app."
   ],
   "metadata": {
    "collapsed": false
   }
  },
  {
   "cell_type": "markdown",
   "source": [
    "### Exercise 2\n",
    "\n",
    "Go through the steps in the [How to deploy your flask app](#deployment) section to employ your app."
   ],
   "metadata": {
    "collapsed": false
   }
  },
  {
   "cell_type": "markdown",
   "metadata": {
    "collapsed": false,
    "jupyter": {
     "outputs_hidden": false
    },
    "pycharm": {
     "name": "#%% md\n"
    }
   },
   "source": [
    "### Exercise 3\n",
    "\n",
    "Now that you have your first deployed app, go back to PyCharm and continue working on the code for your calculator (to update the deployed website later, you can simply replace the files you have uploaded to pythonanywhere at the end!)\n",
    "\n",
    "Extend the functionality of your calculator by enabling the user to do subtraction, multiplication and division on top of addition. Include a mechanism that prints a warning message when a different operation is added to the text field."
   ]
  },
  {
   "cell_type": "markdown",
   "source": [
    "### Solution 3\n",
    "\n",
    "The `calculate` function in your `flask_app.py` file should look something like this:\n",
    "\n",
    "```python\n",
    "@app.route('/calculate', methods=['POST'])  # associating the POST method with this route\n",
    "def calculate():\n",
    "\n",
    "    # using the request method from flask to request the values that were sent to the server through the POST method\n",
    "    value1 = request.form['value1']\n",
    "    value2 = request.form['value2']\n",
    "    operation = str(request.form['operation'])\n",
    "\n",
    "    # convert the input to floating points\n",
    "    value1 = float(value1)\n",
    "    value2 = float(value2)\n",
    "\n",
    "    # do the calculation\n",
    "    if operation == 'add':\n",
    "        result = value1 + value2\n",
    "    elif operation == 'subtract':\n",
    "        result = value1 - value2\n",
    "    elif operation == 'divide':\n",
    "        result = value1 / value2\n",
    "    elif operation == 'multiply':\n",
    "        result = value1 * value2\n",
    "    else:\n",
    "        return render_template('index.html',\n",
    "                               printed_result='Operation must be one of \"add\", \"subtract\", \"divide\", or \"multiply\".')\n",
    "\n",
    "    return render_template('index.html', printed_result=str(result))\n",
    "```"
   ],
   "metadata": {
    "collapsed": false,
    "pycharm": {
     "name": "#%% md\n"
    }
   }
  },
  {
   "cell_type": "markdown",
   "metadata": {},
   "source": [
    "### Exercise 4\n",
    "\n",
    "Now turn the text field that we have been using to type in the operation into a drop-down menu. Hint: Use the `<select>` form element from this [resource](https://www.w3schools.com/html/html_form_elements.asp); remember that the values of the form elements get sent to the server according to the `name` tag, so make sure that you set `name=\"operation\"` in the HTML code for the drop-down."
   ]
  },
  {
   "cell_type": "markdown",
   "source": [
    "### Solution 4\n",
    "\n",
    "Your `index.html` file should look something like this:\n",
    "\n",
    "```html\n",
    "<!DOCTYPE html>\n",
    "<html >\n",
    "<head>\n",
    "  <title>Flask Calculator</title>\n",
    "</head>\n",
    "\n",
    "<body>\n",
    "\t<h1>Calculator</h1>\n",
    "\n",
    "    <form action=\"{{ url_for('calculate')}}\" method=\"post\">\n",
    "        <input type=\"text\" name=\"value1\" placeholder=\"Enter the first number\" required=\"required\" />\n",
    "        <input type=\"text\" name=\"value2\" placeholder=\"Enter the second number\" required=\"required\" />\n",
    "\n",
    "        <label for=\"operation\">Operation</label>\n",
    "        <select id=\"operation\" name=\"operation\">\n",
    "            <option value=\"add\">Add</option>\n",
    "            <option value=\"subtract\">Subtract</option>\n",
    "            <option value=\"divide\">Divide</option>\n",
    "            <option value=\"multiply\">Multiply</option>\n",
    "        </select>\n",
    "\n",
    "        <button type=\"submit\">Calculate</button>\n",
    "    </form>\n",
    "\n",
    "   <br>\n",
    "\n",
    "   {{ printed_result }}\n",
    "\n",
    "</body>\n",
    "</html>\n",
    "```"
   ],
   "metadata": {
    "collapsed": false,
    "pycharm": {
     "name": "#%% md\n"
    }
   }
  },
  {
   "cell_type": "markdown",
   "metadata": {
    "collapsed": false,
    "jupyter": {
     "outputs_hidden": false
    },
    "pycharm": {
     "name": "#%% md\n"
    }
   },
   "source": [
    "### Exercise 5\n",
    "\n",
    "What kinds of problems could you run into with this calculator? Improve your code to deal with these problems by using the exception handling functionality described [here](https://www.w3schools.com/python/python_try_except.asp) (try the examples on this tutorial first, to understand how you can handle errors in Python).\n",
    "\n",
    "Hint: Go through the lines of code in your `calculate` function and think about the types of thing that might go wrong. One of the problems is related to the type of the variable a user might put in the calculator, another is related to one of the operations."
   ]
  },
  {
   "cell_type": "markdown",
   "source": [
    "### Solution 5\n",
    "\n",
    "One problem might arise when you are trying to turn the values to floats, for example when the user puts in non-numeric text. Another is related to the zero division error. You can use the try\n",
    "\n",
    "Your `calculate` function could now look like this (note that we have moved the check of the operation type out of the block of code that does the calculation for readability.\n",
    "\n",
    "```python\n",
    "@app.route('/calculate', methods=['POST'])  # associating the POST method with this route\n",
    "def calculate():\n",
    "\n",
    "    # using the request method from flask to request the values that were sent to the server through the POST method\n",
    "    value1 = request.form['value1']\n",
    "    value2 = request.form['value2']\n",
    "    operation = str(request.form['operation'])\n",
    "\n",
    "    # make sure the input is one of the allowed inputs (not absolutely necessary in the drop-down case)\n",
    "    if operation not in ['add', 'subtract', 'divide', 'multiply']:\n",
    "        return render_template('index.html',\n",
    "                               printed_result='Operation must be one of \"add\", \"subtract\", \"divide\", or \"multiply\".')\n",
    "\n",
    "    try:\n",
    "        # convert the input to floating points\n",
    "        value1 = float(value1)\n",
    "        value2 = float(value2)\n",
    "\n",
    "        # do the calculation\n",
    "        if operation == 'add':\n",
    "            result = value1 + value2\n",
    "        elif operation == 'subtract':\n",
    "            result = value1 - value2\n",
    "        elif operation == 'divide':\n",
    "            result = value1 / value2\n",
    "        else:\n",
    "            result = value1 * value2\n",
    "\n",
    "        return render_template('index.html', printed_result=str(result))\n",
    "\n",
    "    except ZeroDivisionError:\n",
    "        return render_template('index.html', printed_result=\"You cannot divide by zero\")\n",
    "\n",
    "    except ValueError:\n",
    "        return render_template('index.html', printed_result=\"Cannot perform operation with this input\")\n",
    "```"
   ],
   "metadata": {
    "collapsed": false,
    "pycharm": {
     "name": "#%% md\n"
    }
   }
  },
  {
   "cell_type": "markdown",
   "metadata": {
    "collapsed": false,
    "jupyter": {
     "outputs_hidden": false
    },
    "pycharm": {
     "name": "#%% md\n"
    }
   },
   "source": [
    "### Exercise 6\n",
    "\n",
    "Now do some 'refactoring' of your code (code refactoring is when you restructure your code in a way that does not change the external behaviour but readability, scalability, and helps to prevent bugs):\n",
    "\n",
    "* create a new python module called `helper.py` in your root directory into which you will write functions that you can then import into your main app module\n",
    "* in `helper.py`, create a function which will perform your calculations, that takes as its input `value1`, `value2`, and `operation` and returns the calculated result\n",
    "* import this function into the `flask_app.py` module, by writing `from helper import ...` where you replace `...` with your function name\n",
    "* in the `calculate` function in `flask_app.py`, you can now call this function to get the result of the calculation\n",
    "* EXTENSION: write another helper function in `helper.py` that handles the conversion of the input to type `float` and call this function in `flask_app.py` *before* calling the function that performs the operation. Wrap this function in a separate exception handler."
   ]
  },
  {
   "cell_type": "markdown",
   "source": [
    "### Solution 6\n",
    "\n",
    "The content of your `helper.py` file could look something like this:\n",
    "\n",
    "```python\n",
    "# create helper functions for calculations\n",
    "\n",
    "def perform_calculation(value1: float, value2: float, operation: str) -> float:\n",
    "    \"\"\"\n",
    "    Perform a mathematical operation on two values.\n",
    "\n",
    "    Parameters:\n",
    "        value1 (float): The first value.\n",
    "        value2 (float): The second value.\n",
    "        operation (str): The operation to perform. Can be 'add', 'subtract', 'divide', or 'multiply'.\n",
    "\n",
    "    Returns:\n",
    "        float: The result of the operation.\n",
    "\n",
    "    Raises:\n",
    "        ZeroDivisionError: If attempting to divide by zero.\n",
    "    \"\"\"\n",
    "    if operation == 'add':\n",
    "        result = value1 + value2\n",
    "    elif operation == 'subtract':\n",
    "        result = value1 - value2\n",
    "    elif operation == 'divide':\n",
    "        result = value1 / value2\n",
    "    else:\n",
    "        result = value1 * value2\n",
    "\n",
    "    return result\n",
    "\n",
    "\n",
    "def convert_to_float(value1: str, value2: str) -> tuple[float, float]:\n",
    "    \"\"\"\n",
    "    Convert two strings to floating point numbers.\n",
    "\n",
    "    Parameters:\n",
    "        value1 (str): The first value to convert.\n",
    "        value2 (str): The second value to convert.\n",
    "\n",
    "    Returns:\n",
    "        tuple[float, float]: A tuple containing the converted float values of value1 and value2.\n",
    "\n",
    "    Raises:\n",
    "        ValueError: If either value1 or value2 cannot be converted to a float.\n",
    "    \"\"\"\n",
    "\n",
    "    float_value1 = float(value1)\n",
    "    float_value2 = float(value2)\n",
    "\n",
    "    return float_value1, float_value2\n",
    "```\n",
    "\n",
    "Your `flask_app.py` file should now look like this:\n",
    "\n",
    "```python\n",
    "from flask import Flask, render_template, request\n",
    "\n",
    "from helper import perform_calculation, convert_to_float\n",
    "\n",
    "app = Flask(__name__)  # create the instance of the flask class\n",
    "\n",
    "\n",
    "@app.route('/')\n",
    "def home():\n",
    "    return render_template('index.html')\n",
    "\n",
    "\n",
    "@app.route('/calculate', methods=['POST'])  # associating the POST method with this route\n",
    "def calculate():\n",
    "\n",
    "    # using the request method from flask to request the values that were sent to the server through the POST method\n",
    "    value1 = request.form['value1']\n",
    "    value2 = request.form['value2']\n",
    "    operation = str(request.form['operation'])\n",
    "\n",
    "    # make sure the input is one of the allowed inputs (not absolutely necessary in the drop-down case)\n",
    "    if operation not in ['add', 'subtract', 'divide', 'multiply']:\n",
    "        return render_template('index.html',\n",
    "                               printed_result='Operation must be one of \"add\", \"subtract\", \"divide\", or \"multiply\".')\n",
    "\n",
    "    try:\n",
    "        value1, value2 = convert_to_float(value1=value1, value2=value2)\n",
    "    except ValueError:\n",
    "        return render_template('index.html', printed_result=\"Cannot perform operation with this input\")\n",
    "\n",
    "    try:\n",
    "        result = perform_calculation(value1=value1, value2=value2, operation=operation)\n",
    "        return render_template('index.html', printed_result=str(result))\n",
    "\n",
    "    except ZeroDivisionError:\n",
    "        return render_template('index.html', printed_result=\"You cannot divide by zero\")\n",
    "\n",
    "\n",
    "```"
   ],
   "metadata": {
    "collapsed": false,
    "pycharm": {
     "name": "#%% md\n"
    }
   }
  },
  {
   "cell_type": "markdown",
   "source": [
    "### Exercise 7\n",
    "\n",
    "Try calculating $4.9 - 4.845$ with your calculator. What do you see? Include something in your code that will return the value that you would expect."
   ],
   "metadata": {
    "collapsed": false,
    "pycharm": {
     "name": "#%% md\n"
    }
   }
  },
  {
   "cell_type": "markdown",
   "source": [
    "### Solution 7\n",
    "\n",
    "The result we get is 0.055000000000000604 instead of the expected 0.55. This happens because the floating point cannot be represented exactly as a binary fraction. The decimal floating-point number is therefore approximated by the binary floating-point number that is *actually* stored in the machine - this is causing a small **round-off error**.\n",
    "\n",
    "If you want to solve this in your calculator, you can simply use the built-in `round` function, which you can include by passing `printed_result=str(round(result, 3))` ro the `render_template` function, instead of `printed_result=str(result)`."
   ],
   "metadata": {
    "collapsed": false,
    "pycharm": {
     "name": "#%% md\n"
    }
   }
  }
 ],
 "metadata": {
  "kernelspec": {
   "display_name": "Python 3 (ipykernel)",
   "language": "python",
   "name": "python3"
  },
  "language_info": {
   "codemirror_mode": {
    "name": "ipython",
    "version": 3
   },
   "file_extension": ".py",
   "mimetype": "text/x-python",
   "name": "python",
   "nbconvert_exporter": "python",
   "pygments_lexer": "ipython3",
   "version": "3.11.7"
  }
 },
 "nbformat": 4,
 "nbformat_minor": 4
}