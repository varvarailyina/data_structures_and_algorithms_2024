{
 "cells": [
  {
   "cell_type": "markdown",
   "metadata": {
    "collapsed": true,
    "jupyter": {
     "outputs_hidden": true
    },
    "pycharm": {
     "name": "#%% md\n"
    }
   },
   "source": [
    "# Lab 9\n",
    "## Data Structures & Algorithms\n",
    "### Thursday, 18 April 2024"
   ]
  },
  {
   "cell_type": "markdown",
   "metadata": {
    "collapsed": false,
    "jupyter": {
     "outputs_hidden": false
    },
    "pycharm": {
     "name": "#%% md\n"
    }
   },
   "source": [
    "## Today\n",
    "* [Refresher on graphs](#graphs)\n",
    "* [Depth-first search](#dfs)\n",
    "* [Breadth-first search](#bfs)\n",
    "* [Exercises](#exercises)"
   ]
  },
  {
   "cell_type": "markdown",
   "metadata": {},
   "source": [
    "## Refresher on graphs  <a class=\"anchor\" id=\"graphs\"></a>\n",
    "\n",
    "Graphs are a fundamental data structure used to represent pairwise relationships between objects. They consist of a set of vertices $V$ (or nodes) and a set of edges $E$ connecting some pairs of vertices, so a graph object can be written as $G=(V,E)$. In a directed graph, edges have a direction, while in an undirected graph, edges have no direction.\n",
    "\n",
    "Graphs are either represented by adjacency matrix ($n \\times n$ matrix $\\boldsymbol{A}$ with $A_{ij}=1$ if there is an edge between nodes $i$ and $j$) or by an adjacency list, which works better for sparse graphs (list for each node $i$ containing all nodes to which $i$ is connected through an edge).\n",
    "\n",
    "And some other concepts:\n",
    "\n",
    "**connectivity:** a graph is **connected** if there is a **path** (sequence of nodes where each pair is joined by an edge) between every pair of vertices in the graph. There are different algorithms to determine the connectivity of a graph. \n",
    "\n",
    "**cycle:** a path which starts and ends at the same vertex.\n",
    "\n",
    "**tree:** connected graph that contains no cycles. Trees are used in many different contexts. For example, we have used them represent hierarchical relationships between steps in recursive algorithms (divide and conquer).\n",
    "\n",
    "### Implement trees\n",
    "\n",
    "Let's look at a very simple tree: a binary one (every parent node has no more than two childen). \n",
    "\n",
    "<div>\n",
    "   <img src=\"images/tree_example.png\" width=\"200px\">\n",
    "</div>\n",
    "\n",
    "How can we create this structure in Python?"
   ]
  },
  {
   "cell_type": "code",
   "execution_count": 1,
   "metadata": {},
   "outputs": [],
   "source": [
    "class TreeNode(object):\n",
    "    \"\"\"The tree node class (for a binary tree)\"\"\"\n",
    "    \n",
    "    def __init__(self, x):\n",
    "        # The value attribute stores the 'data' (aka the number or ID of the node)\n",
    "        self.val = x\n",
    "        \n",
    "        # The left child\n",
    "        self.left = None\n",
    "        \n",
    "        # The right child\n",
    "        self.right = None"
   ]
  },
  {
   "cell_type": "markdown",
   "metadata": {},
   "source": [
    "The following code creates the tree we saw above in the example:"
   ]
  },
  {
   "cell_type": "code",
   "execution_count": 2,
   "metadata": {},
   "outputs": [],
   "source": [
    "# The root\n",
    "root = TreeNode(0)\n",
    "\n",
    "# The left and right child at depth 1\n",
    "root.left = TreeNode(1)\n",
    "root.right = TreeNode(2)\n",
    "\n",
    "# The children at depth 2\n",
    "root.left.left = TreeNode(3)\n",
    "root.left.right = TreeNode(4)\n",
    "root.right.left = TreeNode(5)\n",
    "root.right.right = TreeNode(6)"
   ]
  },
  {
   "cell_type": "markdown",
   "metadata": {},
   "source": [
    "Now that we have created this object, we might want to find a way of displaying our tree (other than drawing some simple structure in power point, which is what I did above). For this, we can do something called **tree traversal** = showing the value of the nodes in a certain order. Four different types of tree traversal are: pre-order, in-order, post-order, and level-order. We'll look at two of them together and leave the others for the exercises.\n",
    "\n",
    "### Traverse trees\n",
    "\n",
    "**Pre-order traversal**\n",
    "The pre-order traversal has the following recursive process: if the root is None (empty), return None; otherwise, display the value of the root, traverse the left subtree by recursively calling the pre-order function and then traverse the right subtree by recursively calling the pre-order function."
   ]
  },
  {
   "cell_type": "code",
   "execution_count": 3,
   "metadata": {},
   "outputs": [],
   "source": [
    "def pre_order(root):\n",
    "    \"\"\"\n",
    "    Pre-order traversal \n",
    "    \n",
    "    Parameters\n",
    "    ----------\n",
    "    root : the root of a binary tree\n",
    "    \"\"\"\n",
    "\n",
    "    # Base\n",
    "    if root == None:\n",
    "        return\n",
    "    \n",
    "    print(root.val, end=' ')\n",
    "    \n",
    "    # Recursion\n",
    "    pre_order(root.left)\n",
    "    pre_order(root.right)"
   ]
  },
  {
   "cell_type": "code",
   "execution_count": 4,
   "metadata": {},
   "outputs": [
    {
     "name": "stdout",
     "output_type": "stream",
     "text": [
      "0 1 3 4 2 5 6 "
     ]
    }
   ],
   "source": [
    "pre_order(root)"
   ]
  },
  {
   "cell_type": "markdown",
   "metadata": {},
   "source": [
    "**Level-order traversal** Let's think of a different way to traverse the tree: instead of moving directly to the left child of a visited subtree (as is done in the pre-order traversal), we want to traverse the tree level by level. The idea is that we go through each level, starting from the root, and traverse the nodes on this level form left to right. So for our example tree\n",
    "\n",
    "<div>\n",
    "   <img src=\"images/tree_example.png\" width=\"200px\">\n",
    "</div>\n",
    "\n",
    "we want to print 0, 1, 2, 3, 4, 5, 6\n",
    "\n",
    "Let us look at the pseudo-code for this (you will implement this in the exercises):\n",
    "\n",
    "```\n",
    "level_order(root)\n",
    "    If the root is empty (None), return None (corner case)\n",
    "    Initialise a queue with the root\n",
    "    While the queue is not empty:\n",
    "        For N times (where N is the length of the current queue, which is the number of nodes at the current level):\n",
    "            Remove the first node in the queue (i.e. the one furthest to the left)\n",
    "            If this first node is not None:\n",
    "                Print its value\n",
    "                Add its children - first the left than the right child - to the end of the queue (i.e. to the right)\n",
    "            EndIf\n",
    "        EndFor\n",
    "    EndWhile\n",
    "```"
   ]
  },
  {
   "cell_type": "markdown",
   "metadata": {},
   "source": [
    "### Graph search techniques\n",
    "\n",
    "The different types of traversal represent different searching algorithms: depth-first search and breadth-first search. These types of algorithms are used to traverse or search a graph to find a particular vertex or to determine the connectivity of the graph."
   ]
  },
  {
   "cell_type": "markdown",
   "metadata": {},
   "source": [
    "## Depth-first search (DFS) <a class=\"anchor\" id=\"dfs\"></a> \n",
    "\n",
    "**Idea**: starts at the root (selecting an arbitrary node as the root in the case of a graph) and explores as far as possible along each branch before backtracking.\n",
    "\n",
    "**Complexity**: The time complexity of DFS is O(V + E), since - in the worst case - every node and edge are visited once. The space complexity of DFS is O(V). Here, the algorithm uses a stack to keep track of the vertices to visit at the next steps. Again, the stacks contains all vertices of the graph in the worst case."
   ]
  },
  {
   "cell_type": "markdown",
   "metadata": {},
   "source": [
    "## Breadth-first search (BFS) <a class=\"anchor\" id=\"bfs\"></a> \n",
    "\n",
    "**Idea**: starts at the root (again, selecting some arbitrary node as the root in the case of a graph) and explores all of the neighbour nodes at the present level prior to moving on to the nodes at the next depth level.\n",
    "\n",
    "**Complexity**: time complexity of BFS is O(V + E), where V is the number of vertices and E is the number of edges in the graph; this is because, in the worst case scenario, BFS visits every vertex and every edge once. The space complexity of BFS is O(V), where V is the number of vertices. This is because BFS uses a queue data structure to keep track of the vertices to visit next. In the worst case scenario, the queue contains all the vertices of the graph."
   ]
  },
  {
   "cell_type": "markdown",
   "metadata": {
    "collapsed": true,
    "jupyter": {
     "outputs_hidden": true
    }
   },
   "source": [
    "## Exercises  <a class=\"anchor\" id=\"exercises\"></a> "
   ]
  },
  {
   "cell_type": "markdown",
   "metadata": {},
   "source": [
    "### Exercise 1 (DFS)\n",
    "\n",
    "Update the code for the `pre_order` function we looked at above to return the nodes of a tree in a different order (this will be called `in_order`: instead of displaying the value of the root first, it should be displayed after traversing the left subtree but before traversing the right subtree."
   ]
  },
  {
   "cell_type": "code",
   "execution_count": 5,
   "metadata": {},
   "outputs": [],
   "source": [
    "def in_order(root):\n",
    "    \"\"\"\n",
    "    In-order traversal \n",
    "    \n",
    "    Parameters\n",
    "    ----------\n",
    "    root : the root of a binary tree\n",
    "    \"\"\"\n",
    "    \n",
    "    # Implement me\n",
    "    # Base\n",
    "    if root == None:\n",
    "        return\n",
    "    \n",
    "    # Recursion\n",
    "    in_order(root.left)\n",
    "    \n",
    "    print(root.val, end=' ')\n",
    "    \n",
    "    # Recursion\n",
    "    in_order(root.right)"
   ]
  },
  {
   "cell_type": "code",
   "execution_count": 6,
   "metadata": {},
   "outputs": [
    {
     "name": "stdout",
     "output_type": "stream",
     "text": [
      "3 1 4 0 5 2 6 "
     ]
    }
   ],
   "source": [
    "in_order(root)"
   ]
  },
  {
   "cell_type": "markdown",
   "metadata": {},
   "source": [
    "### Exercise 2 (DFS)\n",
    "\n",
    "Now write a function called `post_order`, where the root node is displayed last."
   ]
  },
  {
   "cell_type": "code",
   "execution_count": 7,
   "metadata": {},
   "outputs": [],
   "source": [
    "def post_order(root):\n",
    "    \"\"\"\n",
    "    Post-order traversal \n",
    "    \n",
    "    Parameters\n",
    "    ----------\n",
    "    root : the root of a binary tree\n",
    "    \"\"\"\n",
    "\n",
    "    # Implement me\n",
    "    # Base\n",
    "    if root == None:\n",
    "        return\n",
    "    \n",
    "    # Recursion\n",
    "    post_order(root.left)\n",
    "    post_order(root.right)\n",
    "    \n",
    "    print(root.val, end=' ')"
   ]
  },
  {
   "cell_type": "code",
   "execution_count": 8,
   "metadata": {},
   "outputs": [
    {
     "name": "stdout",
     "output_type": "stream",
     "text": [
      "3 4 1 5 6 2 0 "
     ]
    }
   ],
   "source": [
    "post_order(root)"
   ]
  },
  {
   "cell_type": "markdown",
   "metadata": {},
   "source": [
    "### Exercise 3 (BFS)\n",
    "\n",
    "Now, implement the level-order traversal, according to the pseudo-code that you can find above. The pre-, in-, and post-order are different in terms of the order in which they display the root node. They are all similar in the sense that they always move to the left child as soon as they visit the root of each subtree (and they thus represent depth-first search). In this exercise, you will implement the 'level-order traversal' which we discussed earlier (which represents breadth-first search). \n",
    "\n",
    "Here, the process is as follows: for each level (starting from the root 0) we traverse the nodes that have the same 'depth' (aka that are on the same level) from left to right before moving to the next level. Hint: use a queue structure to implement this! If you aren't familiar with using queues in Python, a good way is to use the 'collections' library, which has a queue class called `deque`, that can be used as follows:"
   ]
  },
  {
   "cell_type": "code",
   "execution_count": 9,
   "metadata": {},
   "outputs": [
    {
     "name": "stdout",
     "output_type": "stream",
     "text": [
      "initial queue:  deque([1, 2, 3])\n",
      "deque([1, 2, 3, 4])\n",
      "deque([6, 1, 2, 3, 4])\n"
     ]
    }
   ],
   "source": [
    "from collections import deque\n",
    " \n",
    "# initialise the queue\n",
    "qu = deque([1, 2, 3])\n",
    "print(\"initial queue: \", qu)\n",
    " \n",
    "# use append() to insert element at the right\n",
    "qu.append(4)\n",
    "print(qu)\n",
    " \n",
    "# use appendleft() to insert element at the left\n",
    "qu.appendleft(6)\n",
    "print(qu)"
   ]
  },
  {
   "cell_type": "code",
   "execution_count": 10,
   "metadata": {},
   "outputs": [],
   "source": [
    "def level_order(root):\n",
    "    \"\"\"\n",
    "    Level-order traversal \n",
    "    \n",
    "    Parameters\n",
    "    ----------\n",
    "    root : the root of a binary tree\n",
    "    \"\"\"\n",
    "\n",
    "    # Corner case\n",
    "    if root == None:\n",
    "        return\n",
    "\n",
    "    # Initialize the queue\n",
    "    queue = deque([root])\n",
    "    \n",
    "    # Level order traversal\n",
    "    while len(queue) > 0:\n",
    "        # Get the length of the queue\n",
    "        n = len(queue)    \n",
    "        for _ in range(n):\n",
    "            # Remove the first node in the queue\n",
    "            node = queue.popleft()            \n",
    "            if node != None:\n",
    "                print(node.val, end=' ')\n",
    "                # Add the left and right children to the end of the queue\n",
    "                queue.append(node.left)\n",
    "                queue.append(node.right)\n",
    "        print()"
   ]
  },
  {
   "cell_type": "code",
   "execution_count": 11,
   "metadata": {},
   "outputs": [
    {
     "name": "stdout",
     "output_type": "stream",
     "text": [
      "0 \n",
      "1 2 \n",
      "3 4 5 6 \n",
      "\n"
     ]
    }
   ],
   "source": [
    "level_order(root)"
   ]
  },
  {
   "cell_type": "markdown",
   "metadata": {},
   "source": [
    "### Exercise 4 (DFS)\n",
    "\n",
    "Implement a depth-first search algorithm to find the height of a binary tree.\n",
    "\n",
    "Hint: Use recursion to implement your solution! If the root is None (i.e. an empty tree), the height is -1. Otherwise, the height is the maximum of the height of the left and right subtree, plus 1 (which accounts for the root). When you have arrived at a leaf node (i.e. with no children) the function returns -1 for both children (since they do not exist) plus 1 (adding 1 to the overall height and thus accounting for itself)."
   ]
  },
  {
   "cell_type": "code",
   "execution_count": 12,
   "metadata": {},
   "outputs": [],
   "source": [
    "def tree_height_dfs(root):\n",
    "    \"\"\"\n",
    "    Find the height of a binary tree\n",
    "    \n",
    "    Parameters\n",
    "    ----------\n",
    "    root : the root of a binary tree\n",
    "    \n",
    "    Returns\n",
    "    ----------\n",
    "    The height of the tree : an integer\n",
    "    \"\"\"\n",
    "    \n",
    "    # Implement me\n",
    "    # Base\n",
    "    if root == None:\n",
    "        return -1\n",
    "    \n",
    "    # Recursion\n",
    "    return max(tree_height_dfs(root.left), tree_height_dfs(root.right)) + 1"
   ]
  },
  {
   "cell_type": "code",
   "execution_count": 13,
   "metadata": {},
   "outputs": [
    {
     "name": "stdout",
     "output_type": "stream",
     "text": [
      "-1\n",
      "0\n",
      "1\n",
      "2\n"
     ]
    }
   ],
   "source": [
    "root1 = None\n",
    "\n",
    "root2 = TreeNode(0)\n",
    "\n",
    "root3 = TreeNode(0)\n",
    "root3.left = TreeNode(1)\n",
    "root3.right = TreeNode(2)\n",
    "\n",
    "root4 = TreeNode(0)\n",
    "root4.left = TreeNode(1)\n",
    "root4.right = TreeNode(2)\n",
    "root4.left.left = TreeNode(3)\n",
    "\n",
    "print(tree_height_dfs(root1))\n",
    "print(tree_height_dfs(root2))\n",
    "print(tree_height_dfs(root3))\n",
    "print(tree_height_dfs(root4))"
   ]
  },
  {
   "cell_type": "markdown",
   "metadata": {},
   "source": [
    "### Exercise 5 (BFS)\n",
    "\n",
    "Implement a breadth-first search algorithm to find the height of a binary tree.\n",
    "\n",
    "Hint: Very similar to the level-order example, you can use a queue to implement your solution. Use a variable called `height` to keep track of the height of the tree and increase it at each round of the level-order traversal. "
   ]
  },
  {
   "cell_type": "code",
   "execution_count": 14,
   "metadata": {},
   "outputs": [],
   "source": [
    "def tree_height_bfs(root):\n",
    "    \"\"\"\n",
    "    Find the height of a binary tree    \n",
    "    \n",
    "    Parameters\n",
    "    ----------\n",
    "    root : the root of a binary tree\n",
    "    \n",
    "    Returns\n",
    "    ----------\n",
    "    The height of the tree : an integer\n",
    "    \"\"\"\n",
    "\n",
    "    # Implement me\n",
    "    # Corner case\n",
    "    if root == None:\n",
    "        return -1\n",
    "\n",
    "    # Initialize the queue\n",
    "    queue = deque([root])\n",
    "    \n",
    "    # Initialize the height\n",
    "    height = -1\n",
    "\n",
    "    # BFS\n",
    "    while len(queue) > 0:\n",
    "        # Update height\n",
    "        height += 1\n",
    "\n",
    "        n = len(queue)    \n",
    "        for _ in range(n):\n",
    "            # Remove the first node in the queue\n",
    "            node = queue.popleft()\n",
    "            \n",
    "            if node.left != None:\n",
    "                # Add the left child to the end of the queue\n",
    "                queue.append(node.left)\n",
    "            if node.right != None:\n",
    "                # Add the right child to the end of the queue\n",
    "                queue.append(node.right)\n",
    "\n",
    "    return height"
   ]
  },
  {
   "cell_type": "code",
   "execution_count": 15,
   "metadata": {},
   "outputs": [
    {
     "name": "stdout",
     "output_type": "stream",
     "text": [
      "-1\n",
      "0\n",
      "1\n",
      "2\n"
     ]
    }
   ],
   "source": [
    "root1 = None\n",
    "\n",
    "root2 = TreeNode(0)\n",
    "\n",
    "root3 = TreeNode(0)\n",
    "root3.left = TreeNode(1)\n",
    "root3.right = TreeNode(2)\n",
    "\n",
    "root4 = TreeNode(0)\n",
    "root4.left = TreeNode(1)\n",
    "root4.right = TreeNode(2)\n",
    "root4.left.left = TreeNode(3)\n",
    "\n",
    "print(tree_height_bfs(root1))\n",
    "print(tree_height_bfs(root2))\n",
    "print(tree_height_bfs(root3))\n",
    "print(tree_height_bfs(root4))"
   ]
  },
  {
   "cell_type": "markdown",
   "metadata": {},
   "source": [
    "### Exercise 6 (DFS)\n",
    "\n",
    "A function that finds the paths (from the root to a leaf) of a binary tree (with time and space complexity O(n)).\n",
    "\n",
    "Here, the `find_paths` function has already been implemented. It defines a global variable called `paths` to keep track of the leaves and then uses a helper function, which calls itself **recursively** to append the leaves to the `path` list in DFS style. In the helper function, the base cases have already been implemented - implement the recursive step! \n",
    "\n",
    "Hint: In the helper function, we use a string, `path`, to keep track of each path. When the root is None, return None (already implemented).  When the node is a leaf, add the value of the root to `path` and append `path` to `paths` and return None (already implemented). When the node is not a leaf, add the value of the root and a string with an arrow ('->') to `path` and then recursively apply the helper function to the left and right subtree. The outcome should be `['0']` when the tree is only a root node, `['0->1', '0->2']` when the tree consists of a root node and a left child node `1` and a right child node `2`, etc."
   ]
  },
  {
   "cell_type": "code",
   "execution_count": 16,
   "metadata": {},
   "outputs": [],
   "source": [
    "def find_paths(root):\n",
    "    \"\"\"\n",
    "    Find the paths (from the root to a leaf) of a binary tree   \n",
    "    \n",
    "    Parameters\n",
    "    ----------\n",
    "    root : the root of a binary tree\n",
    "    \n",
    "    Returns\n",
    "    ----------\n",
    "    The paths\n",
    "    \"\"\"\n",
    "    \n",
    "    global paths      \n",
    "    paths = []\n",
    "\n",
    "    helper(root, '')\n",
    "    return paths"
   ]
  },
  {
   "cell_type": "code",
   "execution_count": 17,
   "metadata": {},
   "outputs": [],
   "source": [
    "def helper(root, path):\n",
    "    \"\"\"\n",
    "    Find the paths (from the root to a leaf) of a binary tree   \n",
    "    \n",
    "    Parameters\n",
    "    ----------\n",
    "    root : the root of a binary tree\n",
    "    \n",
    "    Returns\n",
    "    ----------\n",
    "    The paths\n",
    "    \"\"\"\n",
    "\n",
    "    # Base (the root is None)\n",
    "    if root == None:\n",
    "        return\n",
    "\n",
    "    # Base (we are at a leaf)\n",
    "    if root.left == None and root.right == None:\n",
    "        # Add the value of the root to path        \n",
    "        path += str(root.val)\n",
    "        # Append path to paths\n",
    "        paths.append(path)\n",
    "        return\n",
    "    # Recursion\n",
    "    else:\n",
    "        # Add the value of the root and the arrow ('->') to path\n",
    "        path += str(root.val) + '->'   \n",
    "        helper(root.left, path)\n",
    "        helper(root.right, path)"
   ]
  },
  {
   "cell_type": "code",
   "execution_count": 18,
   "metadata": {},
   "outputs": [
    {
     "name": "stdout",
     "output_type": "stream",
     "text": [
      "[]\n",
      "['0']\n",
      "['0->1']\n",
      "['0->1', '0->2']\n",
      "['0->1->3', '0->2->4']\n",
      "['0->1->2', '0->1->2']\n"
     ]
    }
   ],
   "source": [
    "# Test\n",
    "root1 = None\n",
    "\n",
    "root2 = TreeNode(0)\n",
    "\n",
    "root3 = TreeNode(0)\n",
    "root3.left = TreeNode(1)\n",
    "\n",
    "root4 = TreeNode(0)\n",
    "root4.left = TreeNode(1)\n",
    "root4.right = TreeNode(2)\n",
    "\n",
    "root5 = TreeNode(0)\n",
    "root5.left = TreeNode(1)\n",
    "root5.left.left = TreeNode(3)\n",
    "root5.right = TreeNode(2)\n",
    "root5.right.left = TreeNode(4)\n",
    "\n",
    "root6 = TreeNode(0)\n",
    "root6.left = TreeNode(1)\n",
    "root6.left.left = TreeNode(2)\n",
    "root6.right = TreeNode(1)\n",
    "root6.right.right = TreeNode(2)\n",
    "\n",
    "print(find_paths(root1))\n",
    "print(find_paths(root2))\n",
    "print(find_paths(root3))\n",
    "print(find_paths(root4))\n",
    "print(find_paths(root5))\n",
    "print(find_paths(root6))"
   ]
  },
  {
   "cell_type": "markdown",
   "metadata": {},
   "source": [
    "### Exercise 7 (BFS)\n",
    "\n",
    "Write a BFS algorithm to find the bottom-left node in a binary tree. \n",
    "\n",
    "Hint: Use a queue to design your solution (it can follow a very similar logic to level-order traversal). Use a variable (something like `bottom_left`) to keep track of the current value of the left-most node. Once you have traversed all nodes, this variable will be the bottom-left node. "
   ]
  },
  {
   "cell_type": "code",
   "execution_count": 19,
   "metadata": {},
   "outputs": [],
   "source": [
    "# Implementation\n",
    "def find_bottom_left_node(root):\n",
    "    \"\"\"\n",
    "    Find the bottom-left node in a binary tree\n",
    "    \n",
    "    Parameters\n",
    "    ----------\n",
    "    root : the root of a tree\n",
    "    \n",
    "    Returns\n",
    "    ----------\n",
    "    The value of the bottom-left node in a binary tree\n",
    "    \"\"\"\n",
    "\n",
    "    # Implement me\n",
    "    # Corner case\n",
    "    if root == None:\n",
    "        return root\n",
    "    \n",
    "    bottom_left = root.val\n",
    "    \n",
    "    # Initialize the queue\n",
    "    queue = deque([root])\n",
    "    \n",
    "    while len(queue) > 0:\n",
    "        # Get the length of the queue\n",
    "        n = len(queue)\n",
    "        for i in range(n):\n",
    "            # Remove the first node in the queue\n",
    "            node = queue.popleft()\n",
    "\n",
    "            # Update bottom_left using the value of the left-most node on each level\n",
    "            if i == 0:\n",
    "                bottom_left = node.val\n",
    "\n",
    "            if node.left != None:\n",
    "                # Add the value of the left child to the end of the queue\n",
    "                queue.append(node.left)\n",
    "            if node.right != None:\n",
    "                # Add the value of the right child to the end of the queue\n",
    "                queue.append(node.right)\n",
    "\n",
    "    return bottom_left"
   ]
  },
  {
   "cell_type": "code",
   "execution_count": 20,
   "metadata": {},
   "outputs": [
    {
     "name": "stdout",
     "output_type": "stream",
     "text": [
      "None\n",
      "0\n",
      "1\n",
      "1\n",
      "3\n"
     ]
    }
   ],
   "source": [
    "# Test\n",
    "root1 = None\n",
    "\n",
    "root2 = TreeNode(0)\n",
    "\n",
    "root3 = TreeNode(0)\n",
    "root3.left = TreeNode(1)\n",
    "\n",
    "root4 = TreeNode(0)\n",
    "root4.left = TreeNode(1)\n",
    "root4.right = TreeNode(2)\n",
    "\n",
    "root5 = TreeNode(0)\n",
    "root5.left = TreeNode(1)\n",
    "root5.left.left = TreeNode(3)\n",
    "root5.right = TreeNode(2)\n",
    "root5.right.left = TreeNode(4)\n",
    "\n",
    "print(find_bottom_left_node(root1))\n",
    "print(find_bottom_left_node(root2))\n",
    "print(find_bottom_left_node(root3))\n",
    "print(find_bottom_left_node(root4))\n",
    "print(find_bottom_left_node(root5))"
   ]
  },
  {
   "cell_type": "code",
   "execution_count": null,
   "metadata": {},
   "outputs": [],
   "source": []
  }
 ],
 "metadata": {
  "kernelspec": {
   "display_name": "Python 3 (ipykernel)",
   "language": "python",
   "name": "python3"
  },
  "language_info": {
   "codemirror_mode": {
    "name": "ipython",
    "version": 3
   },
   "file_extension": ".py",
   "mimetype": "text/x-python",
   "name": "python",
   "nbconvert_exporter": "python",
   "pygments_lexer": "ipython3",
   "version": "3.11.7"
  }
 },
 "nbformat": 4,
 "nbformat_minor": 4
}
