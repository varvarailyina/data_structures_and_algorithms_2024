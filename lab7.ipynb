{
 "cells": [
  {
   "cell_type": "markdown",
   "metadata": {
    "collapsed": true,
    "jupyter": {
     "outputs_hidden": true
    },
    "pycharm": {
     "name": "#%% md\n"
    }
   },
   "source": [
    "# Lab 7\n",
    "## Data Structures & Algorithms\n",
    "### Thursday, 4 April 2024"
   ]
  },
  {
   "cell_type": "markdown",
   "metadata": {
    "collapsed": false,
    "jupyter": {
     "outputs_hidden": false
    },
    "pycharm": {
     "name": "#%% md\n"
    }
   },
   "source": [
    "## Today\n",
    "\n",
    "* [Some more Big O stuff](#bigo)\n",
    "* [Plotting with plotly in Flask](#plotly)\n",
    "* [A dashboard to track page loads](#dashboard)\n",
    "* [Exercises](#exercises)"
   ]
  },
  {
   "cell_type": "markdown",
   "metadata": {
    "collapsed": false,
    "jupyter": {
     "outputs_hidden": false
    },
    "pycharm": {
     "name": "#%% md\n"
    }
   },
   "source": [
    "## Some more bigO examples <a class=\"anchor\" id=\"bigo\"></a>"
   ]
  },
  {
   "cell_type": "markdown",
   "metadata": {},
   "source": [
    "In the homework, you had to analyse an algorithm that returned the largest sum of any contiguous subarray of an input array. Let's go through this step by step first and then look at the algorithm's time complexity."
   ]
  },
  {
   "cell_type": "code",
   "execution_count": null,
   "metadata": {},
   "outputs": [],
   "source": [
    "def largest_sum_contiguous_subarray(array):\n",
    "    max_sum = None\n",
    "    # loop through start points of the array\n",
    "    for i in range(len(array)):\n",
    "        sum_subarray = 0\n",
    "        # loop through end points of the array\n",
    "        for j in range(i, len(array)):\n",
    "            # keep track of the subarray that ends with j (so that at j+1, we don't have to calculate it again)\n",
    "            sum_subarray += array[j]\n",
    "            if max_sum is None or max_sum < sum_subarray:\n",
    "                max_sum = sum_subarray\n",
    "    return max_sum"
   ]
  },
  {
   "cell_type": "code",
   "execution_count": null,
   "metadata": {},
   "outputs": [],
   "source": [
    "array_1 = [2]\n",
    "array_2 = [-2, 3]\n",
    "array_3 = [-2, 3, -2, 4, -1, -2]\n",
    "\n",
    "print(largest_sum_contiguous_subarray(array_1))\n",
    "print(largest_sum_contiguous_subarray(array_2))\n",
    "print(largest_sum_contiguous_subarray(array_3))"
   ]
  },
  {
   "cell_type": "markdown",
   "metadata": {},
   "source": [
    "### Complexity\n",
    "\n",
    "To analyse the the time complexity of the algorithm, we break it down into its loops:\n",
    "\n",
    "* outer loop: iterates through each element of the array of size `n` - it runs `n` times\n",
    "* inner loop: iterates through elements of array starting from current index `i` all the way to the end; in the worst case, this is `n` operations - we could stop here and say that it's $O(n^2)$ because of this worst-case scenario\n",
    "* in more detail: for `i=0` the inner loop runs `n` times, for `i=1` the inner loop runs `n-1` times, and so on, so in total, we have $\\frac{n(n+1)}{2}$ operations (triangular numbers identity) - time complexity is $O(n^2)$ (focusing on highest order term)\n",
    "* within the inner-most loop: constant time operations ($O(1)$ - do not depend on size of array)"
   ]
  },
  {
   "cell_type": "markdown",
   "metadata": {},
   "source": [
    "As most of you noticed in the homework, there is a more efficient way of doing this (see below). However, this is already more efficient than the brute-force algorithm (aka going through every single option and checking it). This is because after calculating the sum of subarray say, from i to k, we do not have to do this again for the subarray from i to k+1. Instead, we are 'saving on operations' by storing the sum of the subarray from i to k, setting it as the new max_sum if it is, and then adding the next element to the current sum. "
   ]
  },
  {
   "cell_type": "markdown",
   "metadata": {},
   "source": [
    "### Alternative 1: higher time complexity (brute-force)\n",
    "\n",
    "Here, we loop over all possible contiguous sub-arrays and calculate the sum."
   ]
  },
  {
   "cell_type": "code",
   "execution_count": null,
   "metadata": {},
   "outputs": [],
   "source": [
    "def largest_sum_contiguous_subarray_bruteforce(array):\n",
    "    # initialise value for largest sum\n",
    "    max_sum = None\n",
    "    \n",
    "    # loop through start points of the array\n",
    "    for i in range(len(array)):\n",
    "        # loop through end points of the array\n",
    "        for j in range(i, len(array)):\n",
    "            # loop through the entire subarray (starting with i and ending with j)\n",
    "            sum_subarray = 0\n",
    "            for k in range(i, j + 1):\n",
    "                sum_subarray += array[k]\n",
    "            \n",
    "            if max_sum is None or max_sum < sum_subarray:\n",
    "                # update max_sum if the sum of the current subarray is greater than the stored global sum\n",
    "                max_sum = sum_subarray\n",
    "            \n",
    "    return max_sum"
   ]
  },
  {
   "cell_type": "code",
   "execution_count": null,
   "metadata": {},
   "outputs": [],
   "source": [
    "array_1 = [2]\n",
    "array_2 = [-2, 3]\n",
    "array_3 = [-2, 3, -2, 4, -1, -2]\n",
    "\n",
    "print(largest_sum_contiguous_subarray_bruteforce(array_1))\n",
    "print(largest_sum_contiguous_subarray_bruteforce(array_2))\n",
    "print(largest_sum_contiguous_subarray_bruteforce(array_3))"
   ]
  },
  {
   "cell_type": "markdown",
   "metadata": {},
   "source": [
    "### Complexity\n",
    "\n",
    "To analyse the the time complexity of the algorithm, we again break it down into its loops:\n",
    "\n",
    "* first two loops: same as before\n",
    "* inner loop: in the worst case (when `i=0` and `j=n-1`), this runs for `n` iterations - we stop here and notice that this is $O(n^3)$\n",
    "* within the inner-most loop: constant time operations ($O(1)$ - do not depend on size of array)"
   ]
  },
  {
   "cell_type": "markdown",
   "metadata": {},
   "source": [
    "### Alternative 2: lower time complexity\n",
    "\n",
    "Now we improve the algorithm from the homework, to have an algorithm that has time complexity $O(n)$ instead of $O(n^2)$."
   ]
  },
  {
   "cell_type": "code",
   "execution_count": null,
   "metadata": {},
   "outputs": [],
   "source": [
    "def largest_sum_contiguous_subarray_efficient(array):\n",
    "    # initialise array where at each i we store the sum of the subarray ending at i\n",
    "    sum_arr = [0] * len(array) \n",
    "\n",
    "    # the first element of sum_arr is just the first element of the array\n",
    "    sum_arr[0] = array[0]\n",
    "\n",
    "    # loop through end points\n",
    "    for i in range(1, len(array)):\n",
    "        # if the sum of the subarray ending at the previous element is greater than 0, we extend the subarray to include the current element\n",
    "        if sum_arr[i - 1] > 0:\n",
    "            sum_arr[i] = sum_arr[i - 1] + array[i]\n",
    "        # otherwise, the sum at end point i is just equal to the ith element of the array\n",
    "        else:\n",
    "            sum_arr[i] = array[i]\n",
    "      \n",
    "    return max(sum_arr)"
   ]
  },
  {
   "cell_type": "code",
   "execution_count": null,
   "metadata": {},
   "outputs": [],
   "source": [
    "array_1 = [2]\n",
    "array_2 = [-2, 3]\n",
    "array_3 = [-2, 3, -2, 4, -1, -2]\n",
    "\n",
    "print(largest_sum_contiguous_subarray_efficient(array_1))\n",
    "print(largest_sum_contiguous_subarray_efficient(array_2))\n",
    "print(largest_sum_contiguous_subarray_efficient(array_3))"
   ]
  },
  {
   "cell_type": "markdown",
   "metadata": {},
   "source": [
    "### Complexity\n",
    "\n",
    "Since we only have one loop that iterates through the length of the array and we have constant time operations (comparison, addition, assignment), we now have time complexity $O(n)$.\n",
    "\n",
    "Why has space complexity increased from $O(1)$ to $O(n)$? Can we do better?"
   ]
  },
  {
   "cell_type": "markdown",
   "metadata": {},
   "source": [
    "### Alternative 2: even lower time complexity\n",
    "\n",
    "Now we improve the algorithm even more, by also lowering the space complexity. "
   ]
  },
  {
   "cell_type": "code",
   "execution_count": null,
   "metadata": {},
   "outputs": [],
   "source": [
    "def largest_sum_contiguous_subarray_more_efficient(array):\n",
    "    # initialise two max values; global_max always stores the current largest sum, local_max stores the sum of the current subarray\n",
    "    global_max, local_max = array[0], array[0]\n",
    "\n",
    "    # loop through the end points\n",
    "    for i in range(1, len(array)):\n",
    "        # if the current local_max is greater than 0, we add the ith element of the array, so we extend the subarray by element i\n",
    "        if local_max > 0:\n",
    "            local_max += array[i]\n",
    "        # else, we start with a new subarray at element i\n",
    "        else:\n",
    "            local_max = array[i]\n",
    "        # whenever the sum of the current subarray is greater than the one that was previously stored, update the global max value\n",
    "        if global_max < local_max:\n",
    "            global_max = local_max\n",
    "            \n",
    "    return global_max"
   ]
  },
  {
   "cell_type": "code",
   "execution_count": null,
   "metadata": {},
   "outputs": [],
   "source": [
    "array_1 = [2]\n",
    "array_2 = [-2, 3]\n",
    "array_3 = [-2, 3, -2, 4, -1, -2]\n",
    "\n",
    "print(largest_sum_contiguous_subarray_more_efficient(array_1))\n",
    "print(largest_sum_contiguous_subarray_more_efficient(array_2))\n",
    "print(largest_sum_contiguous_subarray_more_efficient(array_3))"
   ]
  },
  {
   "cell_type": "markdown",
   "metadata": {},
   "source": [
    "### Complexity\n",
    "\n",
    "We are again only looping through the input array of length `n` once, and we have constant time operations (comparison, addition, assignment), so the time complexity remains $O(n)$.\n",
    "\n",
    "The space that is used as we are looping through the input array now does not depend on it's size anymore, so it is constant ($O(1)$)."
   ]
  },
  {
   "cell_type": "markdown",
   "metadata": {},
   "source": [
    "## Plotly visualisation with flask apps  <a class=\"anchor\" id=\"plotly\"></a>\n",
    "\n",
    "Plotly is an interactive plotting library - you can include things like buttons, sliders, dropdowns. It can be easily integrated with flask. Let's first create a simple bar chart as an example (example taken from [here](https://towardsdatascience.com/web-visualization-with-plotly-and-flask-3660abf9c946)). You can either add this dashboard page to your own personal flask app (for which you have created your about page) or you can clone [this](https://github.com/lenafm/my_flask_app) repo.\n",
    "\n",
    "Once you have cloned the repo, you need to add a `config.py` file (inside the `instance` folder, that you need to create inside the project root directory). The `config.py` file only needs to contain one line of code with a secret key (`SECRET_KEY='some password'`). Then you need to initialise the database in a python shell (run `python` while in the `my_flask_app` project root directory and with your flask environment activated):\n",
    "\n",
    "```python\n",
    "from flaskapp import db\n",
    "from flaskapp.models import User\n",
    "db.create_all()\n",
    "user = User(name='Default user')\n",
    "db.session.add(user)\n",
    "db.session.commit()\n",
    "```\n",
    "\n",
    "**Steps**\n",
    "\n",
    "1. First, install the `plotly` and `pandas` package to the virtual environment you use to run flask apps.\n",
    "2. At the top of your `routes.py` file, import the necessary packages as follow:\n",
    "\n",
    "```python\n",
    "import pandas as pd\n",
    "import json\n",
    "import plotly\n",
    "import plotly.express as px\n",
    "```\n",
    "3. Create a new route to your `routes.py` file, that will display the dashboard html, when the user goes to `/dashboard`. (This is where we will display the dynamic plotly graphs later, which will update for user page loads). Within the dashboard() method, we create the dataframe and create a plot with [plotly express](https://plotly.com/python/plotly-express/) (plotly module for the most common figures, e.g. bar charts) that is assigned to the variable `fig`. To include plotly figures in flask, we need to convert the plot to something called JSON format format using the `json.dumps()` and the JSON encoder that comes with Plotly. We do this so that the flask app can use the plotly javascript library to render the plot properly.\n",
    "\n",
    "```python\n",
    "@app.route('/dashboard')\n",
    "def dashboard():\n",
    "    df = pd.DataFrame({\n",
    "        'Fruit': ['Apples', 'Oranges', 'Bananas', 'Apples', 'Oranges',\n",
    "                  'Bananas'],\n",
    "        'Amount': [4, 1, 2, 2, 4, 5],\n",
    "        'City': ['SF', 'SF', 'SF', 'Montreal', 'Montreal', 'Montreal']\n",
    "    })\n",
    "    fig = px.bar(df, x='Fruit', y='Amount', color='City',\n",
    "                 barmode='group')\n",
    "    graphJSON = json.dumps(fig, cls=plotly.utils.PlotlyJSONEncoder)\n",
    "    return render_template('dashboard.html', title='My plot', graphJSON=graphJSON)\n",
    "```\n",
    "4. Finally, create a new html template in your templates folder, called `dashboard.html` and add the following content. Here we include our bar chart by specificing a HTML div tag that we need to give some id and we must set its class attrivute to `chart`, for this to work. The script tags include some Javascript into our code. The first script tag imports the plotly javscript library. In the second script tag we assign the imported JSON code from our bar chart to a variable called `graphs`, and then call the plotting method from the plotly library to display the chart.\n",
    "\n",
    "```html\n",
    "{% extends \"layout.html\" %}\n",
    "{% block content %}\n",
    "    <h1>{{ title }}</h1>\n",
    "    <div id='chart' class='chart'></div>\n",
    "    <script src='https://cdn.plot.ly/plotly-latest.min.js'></script>\n",
    "    <script type='text/javascript'>\n",
    "        var graphs = {{graphJSON | safe}};\n",
    "        Plotly.plot('chart',graphs,{});\n",
    "    </script>\n",
    "{% endblock %}\n",
    "```"
   ]
  },
  {
   "cell_type": "markdown",
   "metadata": {},
   "source": [
    "## Creating a dashboard to track page loads <a class=\"anchor\" id=\"dashboard\"></a>\n",
    "\n",
    "We now create a dashboard for tracking the data for page loads (code adapted from [here](https://python.plainenglish.io/track-website-usage-with-postgresql-and-flask-53f583249911)).\n",
    "\n",
    "1. First, we create two new database models (aka tables). One will have the total number of page views per day and the other will save the users' IP addresses and the dates on which they visited. In your `models.py` file, add:\n",
    "\n",
    "```python\n",
    "class Day(db.Model):\n",
    "    # __tablename__ = 'day' # if you wanted to, you could change the default table name here\n",
    "    id = db.Column(db.Date, primary_key=True)\n",
    "    views = db.Column(db.Integer)\n",
    "\n",
    "    def __repr__(self):\n",
    "        return f\"Day('{self.id}', '{self.views}')\"\n",
    "\n",
    "\n",
    "class IpView(db.Model):\n",
    "    ip = db.Column(db.String(20), primary_key=True)\n",
    "    date_id = db.Column(db.Date, db.ForeignKey('day.id'), primary_key=True)\n",
    "\n",
    "    def __repr__(self):\n",
    "        return f\"IpView('{self.ip}', '{self.date_id}')\"\n",
    "```\n",
    "\n",
    "2. Now, we create our database structure. To do this, we need to run the `db.create_all()` command. Normally, this is all we have to do. Here, we also create our default user, since for now we are only adding blog posts ourselves).\n",
    "```python\n",
    "from flaskapp import db\n",
    "from flaskapp.models import User\n",
    "db.create_all()\n",
    "user = User(name='Default user')\n",
    "db.session.add(user)\n",
    "db.session.commit()\n",
    "```\n",
    "\n",
    "3. Now, we need to create a part in our `routes.py` file that saves data to these tables, the moment a user loads a page. Note that at the top, you need to import some more methods as follows:\n",
    "\n",
    "```python\n",
    "from flask import render_template, flash, redirect, url_for, request\n",
    "from flaskapp import app, db\n",
    "from flaskapp.models import BlogPost, IpView, Day\n",
    "from flaskapp.forms import PostForm\n",
    "import datetime\n",
    "```\n",
    "\n",
    "```python\n",
    "@app.before_request\n",
    "def before_request_func():\n",
    "    day_id = datetime.date.today()   # get our day_id, which is the date string in the format \"yyyy-mm-dd\"\n",
    "    client_ip = request.remote_addr  # get the ip address of where the client request came from\n",
    "\n",
    "    query = Day.query.filter_by(id=day_id)  # try to get the row associated to the current day\n",
    "    if query.count() > 0:\n",
    "        # the current day is already in table, simply increment its views\n",
    "        current_day = query.first()\n",
    "        current_day.views += 1\n",
    "    else:\n",
    "        # the current day does not exist, it's the first view for the day.\n",
    "        current_day = Day(id=day_id, views=1)\n",
    "        db.session.add(current_day)  # insert a new day into the day table\n",
    "\n",
    "    query = IpView.query.filter_by(ip=client_ip, date_id=day_id)\n",
    "    if query.count() == 0:  # check if it's the first time a viewer from this ip address is viewing the website\n",
    "        ip_view = IpView(ip=client_ip, date_id=day_id)\n",
    "        db.session.add(ip_view)  # insert into the ip_view table\n",
    "\n",
    "    db.session.commit()  # commit all the changes to the database\n",
    "```\n",
    "\n",
    "4. We also temporarily update our dashboard route, to display the data that is currently in the `day` table. Remember that you can also add the dashboard to your navigation bar by updating the `layout.html` file!\n",
    "\n",
    "```python\n",
    "# Route to the dashboard page\n",
    "@app.route('/dashboard')\n",
    "def dashboard():\n",
    "    days = Day.query.all()\n",
    "    return [{'Date': day.id, 'Page views': day.views} for day in days]\n",
    "```\n",
    "\n",
    "5. Let's add some fake page views to our database by opening your python shell and manually adding some data to the database:\n",
    "\n",
    "```python\n",
    "from flaskapp import db\n",
    "from flaskapp.models import User, Day, IpView\n",
    "import datetime\n",
    "day1 = Day(id=datetime.date(2024,3,31),views=10)\n",
    "day2 = Day(id=datetime.date(2024,4,1),views=12)\n",
    "day3 = Day(id=datetime.date(2024,4,2),views=13)\n",
    "db.session.add(day1)\n",
    "db.session.add(day2)\n",
    "db.session.add(day3)\n",
    "ipview1 = IpView(ip='127.0.0.1', date_id=day1.id)\n",
    "ipview2 = IpView(ip='127.0.0.1', date_id=day2.id)\n",
    "ipview3 = IpView(ip='127.0.0.1', date_id=day3.id)\n",
    "db.session.add(ipview1)\n",
    "db.session.add(ipview2)\n",
    "db.session.add(ipview3)\n",
    "db.session.commit()\n",
    "```\n",
    "\n",
    "6. Now, we will update our dashboard route again, to display the page load data as a plotly bar chart:\n",
    "\n",
    "```python\n",
    "# Route to the dashboard page\n",
    "@app.route('/dashboard')\n",
    "def dashboard():\n",
    "    days = Day.query.all()\n",
    "    df = pd.DataFrame([{'Date': day.id, 'Page views': day.views} for day in days])\n",
    "\n",
    "    fig = px.bar(df, x='Date', y='Page views')\n",
    "\n",
    "    graphJSON = json.dumps(fig, cls=plotly.utils.PlotlyJSONEncoder)\n",
    "    return render_template('dashboard.html', title='Page views per day', graphJSON=graphJSON)\n",
    "```"
   ]
  },
  {
   "cell_type": "markdown",
   "metadata": {
    "collapsed": false,
    "jupyter": {
     "outputs_hidden": false
    },
    "pycharm": {
     "name": "#%% md\n"
    }
   },
   "source": [
    "## Exercises <a class=\"anchor\" id=\"exercises\"></a>"
   ]
  },
  {
   "cell_type": "markdown",
   "metadata": {
    "collapsed": false,
    "jupyter": {
     "outputs_hidden": false
    }
   },
   "source": [
    "### Exercise 1\n",
    "\n",
    "Implement the page with the plotly bar chart from the [first example](#plotly)."
   ]
  },
  {
   "cell_type": "markdown",
   "metadata": {
    "collapsed": false,
    "jupyter": {
     "outputs_hidden": false
    }
   },
   "source": [
    "### Exercise 2\n",
    "\n",
    "Implement the dashboard for tracking page loads from the [second example](#dashboard)."
   ]
  },
  {
   "cell_type": "markdown",
   "metadata": {
    "collapsed": false,
    "jupyter": {
     "outputs_hidden": false
    },
    "pycharm": {
     "name": "#%% md\n"
    }
   },
   "source": [
    "### Exercise 3\n",
    "\n",
    "Create another page for your website, that gives you information about your blog posts in table format. Specifically, the table should include at least two columns: the date and the number of posts that were published on that date. \n",
    "\n",
    "Hint: You'll have to create another template file (e.g. `blog_dashboard.html`) and create an HTML table. You'll first have to research how to create tables in HTML. In your `routes.py` file, you'll need a new route which passes metadata about the blogs to the new template file."
   ]
  }
 ],
 "metadata": {
  "kernelspec": {
   "display_name": "Python 3 (ipykernel)",
   "language": "python",
   "name": "python3"
  },
  "language_info": {
   "codemirror_mode": {
    "name": "ipython",
    "version": 3
   },
   "file_extension": ".py",
   "mimetype": "text/x-python",
   "name": "python",
   "nbconvert_exporter": "python",
   "pygments_lexer": "ipython3",
   "version": "3.11.7"
  }
 },
 "nbformat": 4,
 "nbformat_minor": 4
}
