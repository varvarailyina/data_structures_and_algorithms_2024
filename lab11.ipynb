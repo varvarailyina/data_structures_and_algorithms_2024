{
 "cells": [
  {
   "cell_type": "markdown",
   "metadata": {
    "collapsed": true,
    "jupyter": {
     "outputs_hidden": true
    },
    "pycharm": {
     "name": "#%% md\n"
    }
   },
   "source": [
    "# Lab 11\n",
    "## Data Structures & Algorithms\n",
    "### Thursday, 2 May 2024"
   ]
  },
  {
   "cell_type": "markdown",
   "metadata": {
    "collapsed": false,
    "jupyter": {
     "outputs_hidden": false
    },
    "pycharm": {
     "name": "#%% md\n"
    }
   },
   "source": [
    "## Today\n",
    "\n",
    "* [Polynomial-time reductions](#reduce)\n",
    "* [Satisfyability](#satisfy)\n",
    "* [P, NP, NP-complete, EXP](#problems)"
   ]
  },
  {
   "cell_type": "markdown",
   "metadata": {},
   "source": [
    "We have seen some (more or less efficient) algorithms for a number of problems, and have talked about ways to measure their efficiency. \n",
    "\n",
    "It turns out, that for **many** problems, we still don't know if polynomial-time algorithms exist!"
   ]
  },
  {
   "cell_type": "markdown",
   "metadata": {
    "collapsed": false,
    "jupyter": {
     "outputs_hidden": false
    },
    "pycharm": {
     "name": "#%% md\n"
    }
   },
   "source": [
    "## Polynomial-time reductions <a class=\"anchor\" id=\"reduce\"></a>\n",
    "\n",
    "One method to explore problems that are computationally hard is to compare the difficulty of different problems. This is done through something called **reduction**: if we have two problems X and Y, we can say that X is at least as hard as Y if a known way to solve X would mean that we could also solve Y.\n",
    "\n",
    "More formally: Problem X polynomial-time reduces to problem Y if instances of problem X can be solved using:\n",
    "* Polynomial number of standard computational steps, plus\n",
    "* Polynomial number of calls to a blackbox that solves problem Y in constant time.\n",
    "\n",
    "The following mean the same thing:\n",
    "* X is polynomial-time reducible to Y\n",
    "* $X \\leq_P Y$\n",
    "* Y is at least as hard as X wrt polynomial time\n",
    "\n",
    "Conclusions that can be made if $X \\leq_P Y$\n",
    "* and Y can be solved in polynomial time -> then X can be solved in polynomial time.\n",
    "* and X cannot be solved in polynomial time -> then Y cannot be solved in polynomial time.\n",
    "* and $Y \\leq_P X$ -> X can be solved in polynomial time if and only if Y can be\n",
    "\n",
    "Even if we don't know how to solve X or Y efficiently: if there was an efficient solution one, we could solve the other!\n",
    "\n",
    "**Techniques for reduction:**\n",
    "\n",
    "**1. showing that two problems are equivalent**\n",
    "\n",
    "Consider the independent set problem (does a graph contain an independent set of nodes - set with no edges between any of them - of size at least k): no known polynomial-time algorithm, but also no prove that none exists! And consider another hard problem, the vertex cover problem (does a graph contain a vertex cover - set of nodes so that all edges have one end in the set -of size at most k). It can be shown that they are **equivalent**, by showing that solving each of them automatically solves the other.\n",
    "\n",
    "**2. showing that one problem is a special case for another one**\n",
    "Similarly, it can be shown that the vertex cover problem is a **special case** of something more general called set cover problem (does there exist a collection of at most k subsets whose union is equal to all elements in the entire set)\n",
    "\n",
    "**3. encoding one problem so that it can be related (reduced) to another problem (see below)**"
   ]
  },
  {
   "cell_type": "markdown",
   "metadata": {},
   "source": [
    "## Satisfyiability <a class=\"anchor\" id=\"satisfy\"></a>\n",
    "\n",
    "One way to derive a **reduction** (point 3. in the list above) is by using the concept of satisfyability. The idea is to translate/encode the components of a problem X so that they represent the elements in another problem Y. For example, we can use something called the **satisfyability problem** and then relate it (~generalise it) to other problems, to do our reduction. \n",
    "\n",
    "* consider a set of boolean variables $x_1, \\dots, x_n$ (1/0 or True/False) (also called **literals**).\n",
    "* imagine a collection of three clauses $(x_1 ∨ \\bar{x_2}), (\\bar{x_1} ∨ \\bar{x_3}), (x_2 ∨ \\bar{x_3})$ - can we make all of them be true? E.g. if all variables were 1, then the second one would not be satisfied; if all are 0, then all are satisfied (this assignment is a satisfying assignment with respect to the set of clauses).\n",
    "* e.g. we have four clauses (we want to find a day for a meeting):\n",
    "    * Elisa can only meet either on Monday, Wednesday or Thursday\n",
    "    * Juan cannot meet on Wednesday\n",
    "    * Ali cannot meet on Friday\n",
    "    * Kim cannot meet neither on Tuesday nor on Thursday\n",
    "* here the boolean variables are, e.g. 'Mon' = $x_1$: 'available on Monday', 'Tue' = $x_2$: 'available on Tuesday', ...\n",
    "* we want all of the following to be true (Mon ∨ Wed ∨ Thu), (¬Wed), (¬Fri), (¬Tue ∧ ¬Thu) - Monday is the **satisfying truth assignment**\n",
    "* generally: **satisfyiability problem (SAT)**: for a set of clauses (each of size 3 = 3-SAT) over a set of variables, does a satisfying truth assignment exist?\n",
    "* it can be shown that 3-SAT $\\leq_P$ Independent Set!"
   ]
  },
  {
   "attachments": {},
   "cell_type": "markdown",
   "metadata": {},
   "source": [
    "### P, NP, NP-complete, EXP <a class=\"anchor\" id=\"problems\"></a>\n",
    "\n",
    "The way in which we distinguish between these types of problems is based on the difference between **finding** a solution and **checking** a given solution. (For example: for the Independent Set or 3-SAT problems, we do not know a polynomial-time algorithm to find solutions but we chan check a proposed solution in polynomial time.)\n",
    "\n",
    "**P** HARD TO SOLVE\n",
    "\n",
    "Decision problems with a polynomial-time **algorithm**\n",
    "\n",
    "**NP** EASY TO CHECK\n",
    "\n",
    "Decision problems with a polynomial-time **certifier** (=checking algorithm that knows some 'proof' with which it can check if a solution is correct). Called NP because certifiers search the space of possible proofs to check if an input is correct, in a nondeterministic way (i.e. exploring multiple potential solutions until a valid one is found). We know that $P \\subseteq NP$, i.e. class P is contained in NP, because: if a problem can be solved in polynomial time, then one can also verify the solution in polynomial time, just by solving it. In general, it's often easy to show that a problem belongs to NP (find an efficient certifier) but we can't prove that any problem in NP does not also belong to P. One of the big questions in computer science: Is there a problem in NP that does not belong to P? (aka does P=NP?) more commonly believed that P=NP but there is no hard evidence. \n",
    "\n",
    "<div>\n",
    "   <img src=\"images/screenshot_np.png\" width=\"500px\">\n",
    "</div>\n",
    "\n",
    "**NP-complete** HARD TO SOLVE\n",
    "\n",
    "While we don't know if P = NP, we can think about subsets of problems in NP that are particularly hard (to advance in our categorisation of algorithms and to understand more about NP) - an example is 3-Satisfyability. A 'hardest' NP problem is a problem in NP that all other problems can be reduced to (e.g. X is NP-complete then we have Y $\\leq_P$ X for all Y in NP. This means that if an NP-complete problem X **was** solvable in polynomial time then we would know that P=NP (and vice versa). If we want to prove that a problem is NP-complete, we need show how it could encode **any** problem in NP. NP-complete problems computationally hard in practice: if you know a problem is NP-complete, it doesn't make much sense looking for an efficient algorithm (accept approximations). \n",
    "\n",
    "**EXP** VERY HARD TO SOLVE\n",
    "\n",
    "Decision problems with an exponential-time algorithm."
   ]
  },
  {
   "cell_type": "code",
   "execution_count": null,
   "metadata": {},
   "outputs": [],
   "source": []
  }
 ],
 "metadata": {
  "kernelspec": {
   "display_name": "Python 3 (ipykernel)",
   "language": "python",
   "name": "python3"
  },
  "language_info": {
   "codemirror_mode": {
    "name": "ipython",
    "version": 3
   },
   "file_extension": ".py",
   "mimetype": "text/x-python",
   "name": "python",
   "nbconvert_exporter": "python",
   "pygments_lexer": "ipython3",
   "version": "3.11.7"
  }
 },
 "nbformat": 4,
 "nbformat_minor": 4
}
